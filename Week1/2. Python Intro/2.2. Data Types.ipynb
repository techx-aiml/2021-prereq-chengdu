{
 "cells": [
  {
   "cell_type": "markdown",
   "id": "actual-samoa",
   "metadata": {},
   "source": [
    "# 2. 数据类型\n",
    "Python 里的变量可以存储很多种类型的数据，为了方便以后的探索，我们先来学习一下基本的数据类型吧！"
   ]
  },
  {
   "cell_type": "markdown",
   "id": "unlike-buffer",
   "metadata": {},
   "source": [
    "## 数字\n",
    "数字就是类似 `1`, `2`, 或者 `-0.5` 的值。下面就是几个例子："
   ]
  },
  {
   "cell_type": "code",
   "execution_count": 1,
   "id": "robust-league",
   "metadata": {},
   "outputs": [
    {
     "name": "stdout",
     "output_type": "stream",
     "text": [
      "2021\n",
      "0.5\n"
     ]
    }
   ],
   "source": [
    "this_year = 2021\n",
    "half = 1 / 2\n",
    "\n",
    "print(this_year)\n",
    "print(half)"
   ]
  },
  {
   "cell_type": "markdown",
   "id": "catholic-tiffany",
   "metadata": {},
   "source": [
    "### 运算符号\n",
    "数字之间可以做简单的运算，常用的都在下面："
   ]
  },
  {
   "cell_type": "code",
   "execution_count": 2,
   "id": "acceptable-puzzle",
   "metadata": {},
   "outputs": [
    {
     "name": "stdout",
     "output_type": "stream",
     "text": [
      "5\n",
      "1\n",
      "6\n",
      "1.5\n",
      "1\n",
      "1\n",
      "9\n"
     ]
    }
   ],
   "source": [
    "print(3 + 2)   # 加法\n",
    "print(3 - 2)   # 减法\n",
    "print(3 * 2)   # 乘法\n",
    "print(3 / 2)   # 除法\n",
    "print(3 // 2)  # 取整除法商\n",
    "print(3 % 2)   # 取整除法余数\n",
    "print(3 ** 2)  # 次方/幂"
   ]
  },
  {
   "cell_type": "markdown",
   "id": "interstate-patrol",
   "metadata": {},
   "source": [
    "<small><small>上面的代码里面，每一行 `#` 后面的都是“注释”，是给你和我看的解释，Python 自己不会读注释。</small></small>\n",
    "\n",
    "Python 里小数和整数是分开来的两类。小数叫 `float`，整数叫 `int`。它们之间可以互相转换："
   ]
  },
  {
   "cell_type": "code",
   "execution_count": 3,
   "id": "formal-violence",
   "metadata": {},
   "outputs": [
    {
     "name": "stdout",
     "output_type": "stream",
     "text": [
      "3\n",
      "3.0\n"
     ]
    }
   ],
   "source": [
    "# 小数 → 整数\n",
    "print(int(3.1))\n",
    "\n",
    "# 整数 → 小数\n",
    "print(float(3))"
   ]
  },
  {
   "cell_type": "markdown",
   "id": "noticed-harvey",
   "metadata": {},
   "source": [
    "运用运算符号和 `=`，我们就可以做计算了！比如，如果登陆火星和回地球各需要 2 年，那么往返之后是哪一年呢？"
   ]
  },
  {
   "cell_type": "code",
   "execution_count": 4,
   "id": "designing-elder",
   "metadata": {},
   "outputs": [
    {
     "name": "stdout",
     "output_type": "stream",
     "text": [
      "2025\n"
     ]
    }
   ],
   "source": [
    "this_year = 2021\n",
    "to_mars = 2\n",
    "to_earth = 2\n",
    "\n",
    "this_year = this_year + to_mars + to_earth\n",
    "print(this_year)"
   ]
  },
  {
   "cell_type": "markdown",
   "id": "burning-survey",
   "metadata": {},
   "source": [
    "多啰嗦一句，`a += b` 的意思就是 `a = a + b`。所以说如果要把 `this_year` 再加 `1` 的话，就可以用："
   ]
  },
  {
   "cell_type": "code",
   "execution_count": 5,
   "id": "natural-combination",
   "metadata": {},
   "outputs": [
    {
     "name": "stdout",
     "output_type": "stream",
     "text": [
      "2026\n"
     ]
    }
   ],
   "source": [
    "this_year += 1\n",
    "print(this_year)"
   ]
  },
  {
   "cell_type": "markdown",
   "id": "uniform-demand",
   "metadata": {},
   "source": [
    "## 布尔值\n",
    "“布尔值”听起来很高端吧，其实它就只有两个值：`True`（真）和 `False`（假）。我们可以用 `==` 来测试两个数是否相等，或者 `>` 和 `<` 来测试不等式。它们都会产生一个布尔值："
   ]
  },
  {
   "cell_type": "code",
   "execution_count": 6,
   "id": "indian-electric",
   "metadata": {},
   "outputs": [
    {
     "name": "stdout",
     "output_type": "stream",
     "text": [
      "True\n",
      "False\n",
      "True\n",
      "False\n"
     ]
    }
   ],
   "source": [
    "print(this_year == 2026)  # 等于\n",
    "print(this_year != 2026)  # 不等于\n",
    "print(this_year > 2021)   # 大于\n",
    "print(this_year <= 2021)  # 小于等于"
   ]
  },
  {
   "cell_type": "markdown",
   "id": "unlike-drove",
   "metadata": {},
   "source": [
    "布尔值可以用 `and`（且）和 `or`（或）来做运算。`and` 代表两边都是 `True`，而 `or` 只需要两边有一个是 `True` 即可。举几个例子就明白了："
   ]
  },
  {
   "cell_type": "code",
   "execution_count": 7,
   "id": "cooked-harris",
   "metadata": {},
   "outputs": [
    {
     "name": "stdout",
     "output_type": "stream",
     "text": [
      "True\n",
      "False\n",
      "False\n",
      "True\n",
      "True\n",
      "False\n"
     ]
    }
   ],
   "source": [
    "print(True and True)\n",
    "print(True and False)\n",
    "print(False and False)\n",
    "\n",
    "print(True or True)\n",
    "print(True or False)\n",
    "print(False or False)"
   ]
  },
  {
   "cell_type": "markdown",
   "id": "sitting-louis",
   "metadata": {},
   "source": [
    "## 字符串\n",
    "字符串是任何用引号 `''` 或者 `\"\"` 围起来的文本，我们之前已经在 `print()` 里面见到过了。"
   ]
  },
  {
   "cell_type": "code",
   "execution_count": 8,
   "id": "handed-disabled",
   "metadata": {},
   "outputs": [
    {
     "name": "stdout",
     "output_type": "stream",
     "text": [
      "Tech X Academy\n"
     ]
    }
   ],
   "source": [
    "print('Tech', 'X', \"Academy\")"
   ]
  },
  {
   "cell_type": "markdown",
   "id": "variable-discretion",
   "metadata": {},
   "source": [
    "`\\n`、`\\t`、`\\'`可以分别表示换行、缩进、引号本身："
   ]
  },
  {
   "cell_type": "code",
   "execution_count": 9,
   "id": "inclusive-information",
   "metadata": {},
   "outputs": [
    {
     "name": "stdout",
     "output_type": "stream",
     "text": [
      "Line 1\n",
      "Line 2\n",
      "\tI'm indented\n"
     ]
    }
   ],
   "source": [
    "print('Line 1\\nLine 2')\n",
    "print('\\tI\\'m indented')"
   ]
  },
  {
   "cell_type": "markdown",
   "id": "powerful-replacement",
   "metadata": {},
   "source": [
    "你可以使用 `+` 来连接几个字符串："
   ]
  },
  {
   "cell_type": "code",
   "execution_count": 10,
   "id": "metallic-marijuana",
   "metadata": {},
   "outputs": [
    {
     "name": "stdout",
     "output_type": "stream",
     "text": [
      "TechXAcademy\n"
     ]
    }
   ],
   "source": [
    "x = 'X'\n",
    "print('Tech' + x + 'Academy')"
   ]
  },
  {
   "cell_type": "markdown",
   "id": "adjusted-inspiration",
   "metadata": {},
   "source": [
    "字符串的名字是 `str`，也可以用它来把任何东西转成字符串："
   ]
  },
  {
   "cell_type": "code",
   "execution_count": 11,
   "id": "after-bedroom",
   "metadata": {},
   "outputs": [
    {
     "name": "stdout",
     "output_type": "stream",
     "text": [
      "1.0 True\n"
     ]
    }
   ],
   "source": [
    "print(str(1.0) + ' ' + str(True))"
   ]
  },
  {
   "cell_type": "markdown",
   "id": "anticipated-parish",
   "metadata": {},
   "source": [
    "还记得 `float` 和 `int` 吗？它们可以把字符串转回数字："
   ]
  },
  {
   "cell_type": "code",
   "execution_count": 12,
   "id": "occupied-collect",
   "metadata": {},
   "outputs": [
    {
     "name": "stdout",
     "output_type": "stream",
     "text": [
      "1010.5\n"
     ]
    }
   ],
   "source": [
    "print(int('2021') * float('0.5'))"
   ]
  },
  {
   "cell_type": "markdown",
   "id": "liquid-chase",
   "metadata": {},
   "source": [
    "## 插曲：`None`\n",
    "`None` 是一个独立的类型，它的意思就是“什么都不是”，是不是很有哲理呢。一般情况下不会遇到它，但是遇到了也不需要怕，只要知道它的意思类似是“空”就可以了。"
   ]
  },
  {
   "cell_type": "code",
   "execution_count": 13,
   "id": "earned-warner",
   "metadata": {},
   "outputs": [],
   "source": [
    "None"
   ]
  },
  {
   "cell_type": "markdown",
   "id": "handmade-fellow",
   "metadata": {},
   "source": [
    "## 列表\n",
    "列表 `list` 可以用来存储一系列东西。这个东西可以是任何数字、字符串、布尔值，或者甚至是一个列表本身。列表包在 `[]` 里面，用 `,` 分隔开来。举个栗子："
   ]
  },
  {
   "cell_type": "code",
   "execution_count": 14,
   "id": "plain-trouble",
   "metadata": {},
   "outputs": [],
   "source": [
    "chestnuts = ['chestnut', 1.0, '栗子']"
   ]
  },
  {
   "cell_type": "markdown",
   "id": "least-ireland",
   "metadata": {},
   "source": [
    "列表的长度不是固定的，但是可以用 `len()` 来确定它当前的长度："
   ]
  },
  {
   "cell_type": "code",
   "execution_count": 15,
   "id": "valued-frame",
   "metadata": {},
   "outputs": [
    {
     "name": "stdout",
     "output_type": "stream",
     "text": [
      "3\n"
     ]
    }
   ],
   "source": [
    "print(len(chestnuts))"
   ]
  },
  {
   "cell_type": "markdown",
   "id": "grateful-found",
   "metadata": {},
   "source": [
    "而要获取它的某一个元素的话，就可以用 `list[index]` 的表达式。其中索引（index）就是“第几个元素”的意思。\n",
    "\n",
    "⚠️ 注意：Python 里面的索引都是从 0 开始的，也就是说第 1 个元素是 `list[0]`，第二个是 `list[1]`，以此类推："
   ]
  },
  {
   "cell_type": "code",
   "execution_count": 16,
   "id": "developing-samba",
   "metadata": {},
   "outputs": [
    {
     "name": "stdout",
     "output_type": "stream",
     "text": [
      "chestnut\n",
      "1.0\n",
      "栗子\n"
     ]
    }
   ],
   "source": [
    "print(chestnuts[0])\n",
    "print(chestnuts[1])\n",
    "print(chestnuts[2])"
   ]
  },
  {
   "cell_type": "markdown",
   "id": "bronze-canberra",
   "metadata": {},
   "source": [
    "特殊情况：`list[-1]` 就是列表的最后一个元素："
   ]
  },
  {
   "cell_type": "code",
   "execution_count": 17,
   "id": "homeless-giving",
   "metadata": {},
   "outputs": [
    {
     "name": "stdout",
     "output_type": "stream",
     "text": [
      "栗子\n"
     ]
    }
   ],
   "source": [
    "print(chestnuts[-1])"
   ]
  },
  {
   "cell_type": "markdown",
   "id": "expressed-photographer",
   "metadata": {},
   "source": [
    "而要判断元素是否在列表里，可以用 `a in list` 的语法："
   ]
  },
  {
   "cell_type": "code",
   "execution_count": 18,
   "id": "monthly-mistress",
   "metadata": {},
   "outputs": [
    {
     "name": "stdout",
     "output_type": "stream",
     "text": [
      "True\n",
      "False\n"
     ]
    }
   ],
   "source": [
    "print('栗子' in chestnuts)\n",
    "print('梨子' in chestnuts)"
   ]
  },
  {
   "cell_type": "markdown",
   "id": "ancient-tract",
   "metadata": {},
   "source": [
    "列表里的元素是可以被拓展或删除的。增加一个元素，可以用 `list.append()`："
   ]
  },
  {
   "cell_type": "code",
   "execution_count": 19,
   "id": "passing-butterfly",
   "metadata": {},
   "outputs": [
    {
     "data": {
      "text/plain": [
       "['chestnut', 1.0, '栗子', '栗子', '栗子', '栗子']"
      ]
     },
     "execution_count": 19,
     "metadata": {},
     "output_type": "execute_result"
    }
   ],
   "source": [
    "chestnuts.append('栗子')\n",
    "chestnuts.append('栗子')\n",
    "chestnuts.append('栗子')\n",
    "# 代码框的最后一行会被自动输出来，不需要 print\n",
    "chestnuts"
   ]
  },
  {
   "cell_type": "markdown",
   "id": "median-acting",
   "metadata": {},
   "source": [
    "删除第 `i` 个元素，则用 `del list[i]`："
   ]
  },
  {
   "cell_type": "code",
   "execution_count": 20,
   "id": "grateful-fighter",
   "metadata": {},
   "outputs": [
    {
     "data": {
      "text/plain": [
       "[1.0, '栗子', '栗子', '栗子', '栗子']"
      ]
     },
     "execution_count": 20,
     "metadata": {},
     "output_type": "execute_result"
    }
   ],
   "source": [
    "del chestnuts[0]\n",
    "chestnuts"
   ]
  },
  {
   "cell_type": "markdown",
   "id": "reflected-madness",
   "metadata": {},
   "source": [
    "合并两个列表，可以直接用 `+` 号："
   ]
  },
  {
   "cell_type": "code",
   "execution_count": 21,
   "id": "competent-hierarchy",
   "metadata": {},
   "outputs": [
    {
     "data": {
      "text/plain": [
       "[1.0, '栗子', '栗子', '栗子', '栗子', 2.0, '梨子']"
      ]
     },
     "execution_count": 21,
     "metadata": {},
     "output_type": "execute_result"
    }
   ],
   "source": [
    "pears = [2.0, '梨子']\n",
    "chestnuts + pears"
   ]
  },
  {
   "cell_type": "markdown",
   "id": "sound-campus",
   "metadata": {},
   "source": [
    "## 字典\n",
    "字典 `dict` 和列表很像，也是一种储存很多个值的方式。不过不同于列表，它们是没有顺序的。列表是由一个索引（index）来标示一个值（value）的，而字典是由一个键（key）来标示一个值（value）的。字典包在花括号 `{}` 里面，用 `key: value` 的形式添加一对键和值："
   ]
  },
  {
   "cell_type": "code",
   "execution_count": 22,
   "id": "lesbian-virus",
   "metadata": {},
   "outputs": [],
   "source": [
    "chinese_to_english = {'栗子': 'chestnut', '梨子': 'pear', '李子': 'plum', '离子': 'ion'}"
   ]
  },
  {
   "cell_type": "markdown",
   "id": "athletic-lawyer",
   "metadata": {},
   "source": [
    "为了好看一点🕶️，我们也习惯把它分成几行写："
   ]
  },
  {
   "cell_type": "code",
   "execution_count": 23,
   "id": "pregnant-transfer",
   "metadata": {},
   "outputs": [],
   "source": [
    "chinese_to_english = {\n",
    "    '栗子': 'chestnut',\n",
    "    '梨子': 'pear',\n",
    "    '李子': 'plum',\n",
    "    '离子': 'ion'\n",
    "}"
   ]
  },
  {
   "cell_type": "markdown",
   "id": "associate-mercy",
   "metadata": {},
   "source": [
    "和列表一样，要获取它的总长度可以用 `len()`："
   ]
  },
  {
   "cell_type": "code",
   "execution_count": 24,
   "id": "peripheral-advancement",
   "metadata": {},
   "outputs": [
    {
     "data": {
      "text/plain": [
       "4"
      ]
     },
     "execution_count": 24,
     "metadata": {},
     "output_type": "execute_result"
    }
   ],
   "source": [
    "len(chinese_to_english)"
   ]
  },
  {
   "cell_type": "markdown",
   "id": "executive-mounting",
   "metadata": {},
   "source": [
    "要从键（key）获取一个值（value），可以用 `dict[key]` 的形式："
   ]
  },
  {
   "cell_type": "code",
   "execution_count": 25,
   "id": "dominican-position",
   "metadata": {},
   "outputs": [
    {
     "data": {
      "text/plain": [
       "'chestnut'"
      ]
     },
     "execution_count": 25,
     "metadata": {},
     "output_type": "execute_result"
    }
   ],
   "source": [
    "chinese_to_english['栗子']"
   ]
  },
  {
   "cell_type": "markdown",
   "id": "bound-camping",
   "metadata": {},
   "source": [
    "要添加或者更新一个值，可以用 `dict[key] = value`。\n",
    "\n",
    "⚠️ 注意：字典里面每一个键（key）只能出现一次，所以重复的键会被覆盖掉。"
   ]
  },
  {
   "cell_type": "code",
   "execution_count": 26,
   "id": "approved-pastor",
   "metadata": {},
   "outputs": [
    {
     "data": {
      "text/plain": [
       "{'栗子': 'Chestnut!', '梨子': 'pear', '李子': 'plum', '离子': 'ion', '粒子': 'particle'}"
      ]
     },
     "execution_count": 26,
     "metadata": {},
     "output_type": "execute_result"
    }
   ],
   "source": [
    "chinese_to_english['粒子'] = 'particle'   # 添加 '粒子': 'particle'\n",
    "chinese_to_english['栗子'] = 'Chestnut!'  # 更新 '栗子': 'Chestnut!'\n",
    "chinese_to_english"
   ]
  },
  {
   "cell_type": "markdown",
   "id": "square-publicity",
   "metadata": {},
   "source": [
    "而要删除一对键和值，可以用 `del dict[key]`："
   ]
  },
  {
   "cell_type": "code",
   "execution_count": 27,
   "id": "figured-assurance",
   "metadata": {},
   "outputs": [
    {
     "data": {
      "text/plain": [
       "{'栗子': 'Chestnut!', '梨子': 'pear', '李子': 'plum', '粒子': 'particle'}"
      ]
     },
     "execution_count": 27,
     "metadata": {},
     "output_type": "execute_result"
    }
   ],
   "source": [
    "del chinese_to_english['离子']\n",
    "chinese_to_english"
   ]
  },
  {
   "cell_type": "markdown",
   "id": "generous-score",
   "metadata": {},
   "source": [
    "要判断一个键（key）是否在字典内，可以直接用 `key in dict`："
   ]
  },
  {
   "cell_type": "code",
   "execution_count": 28,
   "id": "employed-hurricane",
   "metadata": {},
   "outputs": [
    {
     "name": "stdout",
     "output_type": "stream",
     "text": [
      "True\n",
      "False\n"
     ]
    }
   ],
   "source": [
    "print('栗子' in chinese_to_english)\n",
    "print('离子' in chinese_to_english)"
   ]
  },
  {
   "cell_type": "markdown",
   "id": "flying-probe",
   "metadata": {},
   "source": [
    "而要判断一个元素（value）是否在字典内，可以用 `value in dict.values()`："
   ]
  },
  {
   "cell_type": "code",
   "execution_count": 29,
   "id": "aerial-bosnia",
   "metadata": {},
   "outputs": [
    {
     "name": "stdout",
     "output_type": "stream",
     "text": [
      "True\n",
      "False\n"
     ]
    }
   ],
   "source": [
    "print('Chestnut!' in chinese_to_english.values())\n",
    "print('ion' in chinese_to_english.values())"
   ]
  },
  {
   "cell_type": "markdown",
   "id": "rocky-satellite",
   "metadata": {},
   "source": [
    "## 任务\n",
    "1. 你可以修改下面的代码，让它输入一个数字，并输出它的 2 倍吗？\n",
    "\n",
    "   <small><small>提示：还记得怎么把字符串转换成数字吗？</small></small>"
   ]
  },
  {
   "cell_type": "code",
   "execution_count": null,
   "id": "academic-challenge",
   "metadata": {},
   "outputs": [],
   "source": [
    "number_string = input('Number: ')"
   ]
  },
  {
   "cell_type": "markdown",
   "id": "educational-ethnic",
   "metadata": {},
   "source": [
    "2. 你可以把下面这个列表的第一个和最后一个元素互换吗？"
   ]
  },
  {
   "cell_type": "code",
   "execution_count": null,
   "id": "breeding-forestry",
   "metadata": {},
   "outputs": [],
   "source": [
    "numbers = [6, 1, 2, 3, 4, 5, 0]"
   ]
  },
  {
   "cell_type": "markdown",
   "id": "prerequisite-newman",
   "metadata": {},
   "source": [
    "## 小结\n",
    "真是过了好多内容啊，如果一时间消化不了没关系，可以先记下笔记，以后遇到不同的数据类型可以回顾这篇的内容。\n",
    "* 整数 `int` 小数 `float`\n",
    "* 布尔值 `bool`\n",
    "* 字符串 `str`\n",
    "* `None`\n",
    "* 列表 `list`\n",
    "* 字典 `dict`\n",
    "\n",
    "如果日后遇到编程问题也可以在网上寻找答案，或者直接问我们！"
   ]
  }
 ],
 "metadata": {
  "kernelspec": {
   "display_name": "Python 3",
   "language": "python",
   "name": "python3"
  },
  "language_info": {
   "codemirror_mode": {
    "name": "ipython",
    "version": 3
   },
   "file_extension": ".py",
   "mimetype": "text/x-python",
   "name": "python",
   "nbconvert_exporter": "python",
   "pygments_lexer": "ipython3",
   "version": "3.8.1"
  }
 },
 "nbformat": 4,
 "nbformat_minor": 5
}
