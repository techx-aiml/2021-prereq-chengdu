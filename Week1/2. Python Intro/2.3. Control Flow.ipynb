{
 "cells": [
  {
   "cell_type": "markdown",
   "id": "buried-worth",
   "metadata": {},
   "source": [
    "# 3. 流程控制：判断与循环\n",
    "掌握了 Python 的基础之后，我们可以让代码作出一些更复杂、智能的行为了。让我们出发，来康康 Python 的判断和循环怎么实现吧！"
   ]
  },
  {
   "cell_type": "code",
   "execution_count": 1,
   "id": "severe-stations",
   "metadata": {},
   "outputs": [],
   "source": [
    "light = 'green'"
   ]
  },
  {
   "cell_type": "markdown",
   "id": "framed-temple",
   "metadata": {},
   "source": [
    "## 判断：`if`\n",
    "如果我们要让 Python 根据不同的情况作出不同的**判断**，那么就要用到 `if` 语句了。\n",
    "\n",
    "比如，如果现在是绿灯，那么让车往前走，写成代码就是："
   ]
  },
  {
   "cell_type": "code",
   "execution_count": 2,
   "id": "interested-firmware",
   "metadata": {},
   "outputs": [
    {
     "data": {
      "text/plain": [
       "20"
      ]
     },
     "execution_count": 2,
     "metadata": {},
     "output_type": "execute_result"
    }
   ],
   "source": [
    "if light == 'green':\n",
    "    speed = 20\n",
    "\n",
    "if light == 'red':\n",
    "    speed = 0\n",
    "\n",
    "speed"
   ]
  },
  {
   "cell_type": "markdown",
   "id": "right-restaurant",
   "metadata": {},
   "source": [
    "我们仔细研究一下上面的语句吧！\n",
    "\n",
    "第一行`if`的意思是**如果** `light == 'green'` 这个布尔值判断成立，就执行下面的代码 `speed = 20`。\n",
    "\n",
    "第二个 `if` 因为 `light` 不等于 `'red'`，所以下面的代码就没有被执行。`speed` 也就还是 `20`。\n",
    "\n",
    "上面的代码也可以简化成下面这样："
   ]
  },
  {
   "cell_type": "code",
   "execution_count": 3,
   "id": "nervous-bridge",
   "metadata": {},
   "outputs": [
    {
     "data": {
      "text/plain": [
       "20"
      ]
     },
     "execution_count": 3,
     "metadata": {},
     "output_type": "execute_result"
    }
   ],
   "source": [
    "if light == 'green':\n",
    "    speed = 20\n",
    "else:\n",
    "    speed = 0\n",
    "    \n",
    "speed"
   ]
  },
  {
   "cell_type": "markdown",
   "id": "decreased-assembly",
   "metadata": {},
   "source": [
    "上面，`else` 的意思就是如果 `if light == 'green'` 成立，就执行 `if` 下面的代码，**否则**执行 `else` 下面的代码。\n",
    "\n",
    "⚠️ 注意：`if` 语句中，不要忘记在 `if` 和 `else` 这行末尾加上冒号 `:`，而且下面选择执行的代码必须缩进（也就是顶出来 4 个空格）。"
   ]
  },
  {
   "cell_type": "markdown",
   "id": "vulnerable-talent",
   "metadata": {},
   "source": [
    "## 循环：`for`\n",
    "我们在上一节学习了列表 `list`。如果我们要循环过一遍这个列表，把所有元素打印出来，怎么办呢？"
   ]
  },
  {
   "cell_type": "code",
   "execution_count": 4,
   "id": "royal-athens",
   "metadata": {},
   "outputs": [
    {
     "name": "stdout",
     "output_type": "stream",
     "text": [
      "green\n",
      "yellow\n",
      "red\n"
     ]
    }
   ],
   "source": [
    "lights = ['green', 'yellow', 'red']\n",
    "\n",
    "for light in lights:\n",
    "    print(light)"
   ]
  },
  {
   "cell_type": "markdown",
   "id": "consolidated-cache",
   "metadata": {},
   "source": [
    "在上面的代码里面，`for light in lights` 的意思，是一个一个把 `lights` 里面的元素放到 `light` 变量里来执行下面的代码。因为列表的长度是 3，所以下面的代码 `print(light)` 就执行了 3 次，每一次打印一个元素。\n",
    "\n",
    "如果我们想要在循环的基础上做判断呢？比如说，对于每一个信号灯 `light`，我们都想知道车速是多少，怎么办呢？那我们可以直接进行俄罗斯套娃操作，把 `if` 套在 `for` 内部："
   ]
  },
  {
   "cell_type": "code",
   "execution_count": 5,
   "id": "blocked-essay",
   "metadata": {},
   "outputs": [
    {
     "name": "stdout",
     "output_type": "stream",
     "text": [
      "green 20\n",
      "yellow 0\n",
      "red 0\n"
     ]
    }
   ],
   "source": [
    "for light in lights:\n",
    "    if light == 'green':\n",
    "        speed = 20\n",
    "    else:\n",
    "        speed = 0\n",
    "    print(light, speed)"
   ]
  },
  {
   "cell_type": "markdown",
   "id": "varying-planner",
   "metadata": {},
   "source": [
    "这段代码里面，`for` 让下面的代码执行了 3 次，每次都进行了 `if` 判断：\n",
    "1. 第一次 `light` 是 `'green'`，所以车速 `20`\n",
    "2. 第二次 `light` 是 `'yellow'`，所以车速 `0`\n",
    "3. 第三次 `light` 是 `'red'`，所以车速 `0`\n",
    "\n",
    "⚠️ 注意：如果要套娃的话，记得让 `if` 完全包裹在 `for` 里面，也就是说在 `if`/`else` 这几行的基础上再加 4 个空格。"
   ]
  },
  {
   "cell_type": "markdown",
   "id": "technological-question",
   "metadata": {},
   "source": [
    "那如果我们只知道循环长度 `n`，怎么用 `for` 循环来 `n` 遍呢？答案就是用 `range(n)`。"
   ]
  },
  {
   "cell_type": "code",
   "execution_count": 6,
   "id": "municipal-uruguay",
   "metadata": {},
   "outputs": [
    {
     "name": "stdout",
     "output_type": "stream",
     "text": [
      "0\n",
      "1\n",
      "2\n"
     ]
    }
   ],
   "source": [
    "for i in range(3):\n",
    "    print(i)"
   ]
  },
  {
   "cell_type": "markdown",
   "id": "musical-arthur",
   "metadata": {},
   "source": [
    "细心的学员可能发现了，`range(n)` 就等价于一个长度为 `n` 的列表 `[0, 1, ..., n-1]`。所以 `for i in range(n)` 肯定会循环 `n` 次。"
   ]
  },
  {
   "cell_type": "markdown",
   "id": "amino-france",
   "metadata": {},
   "source": [
    "## 循环：`while`"
   ]
  },
  {
   "cell_type": "markdown",
   "id": "mediterranean-rescue",
   "metadata": {},
   "source": [
    "除了 `for` 循环，还有一种循环叫 `while`。`while` 的意思是**当**，也就是当某个条件成立的时候就一直循环执行。"
   ]
  },
  {
   "cell_type": "code",
   "execution_count": 7,
   "id": "manual-terror",
   "metadata": {},
   "outputs": [
    {
     "name": "stdout",
     "output_type": "stream",
     "text": [
      "60\n"
     ]
    }
   ],
   "source": [
    "speed = 0\n",
    "\n",
    "while speed < 60:\n",
    "    speed += 20\n",
    "    \n",
    "print(speed)"
   ]
  },
  {
   "cell_type": "markdown",
   "id": "official-renaissance",
   "metadata": {},
   "source": [
    "在上面的代码中，当 `speed < 60` 的时候，下面的代码 `speed += 20` 就一直被循环执行。于是速度就加到 60，然后就不继续加速了。是不是非常直观呢？"
   ]
  },
  {
   "cell_type": "markdown",
   "id": "introductory-michael",
   "metadata": {},
   "source": [
    "## 任务\n",
    "1. 你可以写完下面的代码，使得 `numbers` 里面的数都乘以 2，并存到新的列表 `new_numbers` 里面吗？\n",
    "\n",
    "   <small><small>提示：用 `for` 每一次都往 `new_numbers` 里面加一个元素（怎么加元素来着？）</small></small>"
   ]
  },
  {
   "cell_type": "code",
   "execution_count": 8,
   "id": "coral-finland",
   "metadata": {},
   "outputs": [],
   "source": [
    "numbers = [1, 2, 3, 4, 5]\n",
    "new_numbers = []"
   ]
  },
  {
   "cell_type": "markdown",
   "id": "visible-label",
   "metadata": {},
   "source": [
    "2. 如何做一个永远不结束的死循环？"
   ]
  },
  {
   "cell_type": "code",
   "execution_count": null,
   "id": "weekly-accordance",
   "metadata": {},
   "outputs": [],
   "source": []
  },
  {
   "cell_type": "markdown",
   "id": "seven-silver",
   "metadata": {},
   "source": [
    "## 小结\n",
    "Python 中的判断和循环可以让它做出智能的选择：\n",
    "* `if condition:` 当 `condition` 成立时执行\n",
    "* `else:` 否则执行\n",
    "* `for element in list:` 取 `list` 里面各个元素 `element` 一个一个执行\n",
    "* `for i in range(n):` 循环 `n` 次\n",
    "* `while condition:` 当 `condition` 成立时一直执行"
   ]
  }
 ],
 "metadata": {
  "kernelspec": {
   "display_name": "Python 3",
   "language": "python",
   "name": "python3"
  },
  "language_info": {
   "codemirror_mode": {
    "name": "ipython",
    "version": 3
   },
   "file_extension": ".py",
   "mimetype": "text/x-python",
   "name": "python",
   "nbconvert_exporter": "python",
   "pygments_lexer": "ipython3",
   "version": "3.8.3"
  },
  "toc": {
   "base_numbering": 1,
   "nav_menu": {},
   "number_sections": true,
   "sideBar": true,
   "skip_h1_title": false,
   "title_cell": "Table of Contents",
   "title_sidebar": "Contents",
   "toc_cell": false,
   "toc_position": {},
   "toc_section_display": true,
   "toc_window_display": false
  }
 },
 "nbformat": 4,
 "nbformat_minor": 5
}
