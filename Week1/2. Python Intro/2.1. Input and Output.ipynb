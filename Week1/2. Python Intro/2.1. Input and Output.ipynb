{
 "cells": [
  {
   "cell_type": "markdown",
   "id": "demonstrated-invention",
   "metadata": {},
   "source": [
    "# 1. 输入与输出\n",
    "在安装好 Python 环境之后，让我们开始学习基本的 Python 命令吧！"
   ]
  },
  {
   "cell_type": "markdown",
   "id": "considerable-convertible",
   "metadata": {},
   "source": [
    "## 输出\n",
    "如果要让 Python 输出内容到屏幕上，怎么做呢？Python 有一个 `print()` 命令来专门解决这个问题。点击下面的代码框，并点击页面上面的 “▶ Run” 或者按下 <kbd>Shift</kbd> + <kbd>Enter</kbd> 来运行吧！"
   ]
  },
  {
   "cell_type": "code",
   "execution_count": 1,
   "id": "loved-nicaragua",
   "metadata": {},
   "outputs": [
    {
     "name": "stdout",
     "output_type": "stream",
     "text": [
      "Hello TechX!\n",
      "2\n",
      "Goodbye!\n"
     ]
    }
   ],
   "source": [
    "print('Hello TechX!')\n",
    "print(1 + 1)\n",
    "print('Goodbye!')"
   ]
  },
  {
   "cell_type": "markdown",
   "id": "auburn-laugh",
   "metadata": {},
   "source": [
    "`print()` 可以解决几乎所有的输出。如果要打印多个输出，用逗号分隔就行："
   ]
  },
  {
   "cell_type": "code",
   "execution_count": 2,
   "id": "amino-advisory",
   "metadata": {},
   "outputs": [
    {
     "name": "stdout",
     "output_type": "stream",
     "text": [
      "TechX 2021 We choose to go to the moon.\n"
     ]
    }
   ],
   "source": [
    "print('TechX', 2021, 'We choose to go to the moon.')"
   ]
  },
  {
   "cell_type": "markdown",
   "id": "plain-constraint",
   "metadata": {},
   "source": [
    "## 插曲：变量\n",
    "在我们学习输入方法之前，需要先学习一个重要的概念：**变量**。可以把变量想象成是一个容器，这个容器有一个名字（变量名），但是里面可以存放任何东西（变量值）。比如说，如果这个变量的名字是 `variable` 的话，那么就可以用 `variable = value` 把 `value` 的值存到 `variable` 里面。\n",
    "\n",
    "*所以也可以把等号 `=` 想象成向左的箭头 `←`。*\n",
    "\n",
    "这里我们定义两个变量 `x` 和 `y`："
   ]
  },
  {
   "cell_type": "code",
   "execution_count": 3,
   "id": "undefined-closure",
   "metadata": {},
   "outputs": [],
   "source": [
    "x = 20\n",
    "y = x + 1"
   ]
  },
  {
   "cell_type": "markdown",
   "id": "minute-start",
   "metadata": {},
   "source": [
    "于是它们的值就变成了："
   ]
  },
  {
   "cell_type": "code",
   "execution_count": 4,
   "id": "humanitarian-hands",
   "metadata": {},
   "outputs": [
    {
     "name": "stdout",
     "output_type": "stream",
     "text": [
      "x is 20\n",
      "y is 21\n"
     ]
    }
   ],
   "source": [
    "print('x is', x)\n",
    "print('y is', y)"
   ]
  },
  {
   "cell_type": "markdown",
   "id": "running-primary",
   "metadata": {},
   "source": [
    "而比如要让 `x` 和 `y` 的值互换的话，可以直接用 `,` 来分隔两个变量，让值从右边传到左边："
   ]
  },
  {
   "cell_type": "code",
   "execution_count": 5,
   "id": "initial-shore",
   "metadata": {},
   "outputs": [
    {
     "name": "stdout",
     "output_type": "stream",
     "text": [
      "x is 21\n",
      "y is 20\n"
     ]
    }
   ],
   "source": [
    "x, y = y, x\n",
    "print('x is', x)\n",
    "print('y is', y)"
   ]
  },
  {
   "cell_type": "markdown",
   "id": "clinical-implementation",
   "metadata": {},
   "source": [
    "## 输入\n",
    "和输出一样，输入也只需要一个命令 `input()`。在文本框输入文字并按下 <kbd>Enter</kbd> 后，它会产生一个值，这个值就可以用 `=` 来传递给一个变量："
   ]
  },
  {
   "cell_type": "code",
   "execution_count": 6,
   "id": "protective-cheese",
   "metadata": {},
   "outputs": [
    {
     "name": "stdout",
     "output_type": "stream",
     "text": [
      "Input text: Hello\n",
      "Hello !\n"
     ]
    }
   ],
   "source": [
    "text = input('Input text: ')\n",
    "print(text, '!')"
   ]
  },
  {
   "cell_type": "markdown",
   "id": "stopped-china",
   "metadata": {},
   "source": [
    "## 任务\n",
    "你可以完成下面的代码，使它输入名字之后，输出 `Hello, (名字)` 吗？"
   ]
  },
  {
   "cell_type": "code",
   "execution_count": null,
   "id": "competent-brooks",
   "metadata": {},
   "outputs": [],
   "source": [
    "name = input('Input your name: ')"
   ]
  }
 ],
 "metadata": {
  "kernelspec": {
   "display_name": "Python 3",
   "language": "python",
   "name": "python3"
  },
  "language_info": {
   "codemirror_mode": {
    "name": "ipython",
    "version": 3
   },
   "file_extension": ".py",
   "mimetype": "text/x-python",
   "name": "python",
   "nbconvert_exporter": "python",
   "pygments_lexer": "ipython3",
   "version": "3.8.1"
  }
 },
 "nbformat": 4,
 "nbformat_minor": 5
}
