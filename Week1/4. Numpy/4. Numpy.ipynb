{
 "cells": [
  {
   "cell_type": "markdown",
   "metadata": {},
   "source": [
    "这个Notebook会带领大家预习关于Numpy, Python的矩阵运算库的相应知识，并了解如何使用Numpy实践我们在线性代数中学到的知识，包括：\n",
    "* ndarray\n",
    "* operations\n",
    "* slice\n",
    "* shape"
   ]
  },
  {
   "cell_type": "code",
   "execution_count": null,
   "metadata": {},
   "outputs": [],
   "source": [
    "!pip install numpy"
   ]
  },
  {
   "cell_type": "code",
   "execution_count": null,
   "metadata": {},
   "outputs": [],
   "source": [
    "import numpy as np"
   ]
  },
  {
   "cell_type": "markdown",
   "metadata": {},
   "source": [
    "## ndarray\n",
    "\n",
    "Numpy的核心是这个名叫ndarray的对象，他可以被多种构造器和numpy自带的函数创建：\n",
    "* np.array()\n",
    "* np.ones()\n",
    "* np.zeros()\n",
    "* np.empty()\n",
    "* np.arrange()"
   ]
  },
  {
   "cell_type": "code",
   "execution_count": null,
   "metadata": {},
   "outputs": [],
   "source": [
    "np.array([[1, 2, 3, 4, 5], [6, 7, 8, 9, 10]])"
   ]
  },
  {
   "cell_type": "code",
   "execution_count": null,
   "metadata": {},
   "outputs": [],
   "source": [
    "np.ones(10)"
   ]
  },
  {
   "cell_type": "code",
   "execution_count": null,
   "metadata": {},
   "outputs": [],
   "source": [
    "np.zeros(10)"
   ]
  },
  {
   "cell_type": "code",
   "execution_count": null,
   "metadata": {},
   "outputs": [],
   "source": [
    "np.empty(5)"
   ]
  },
  {
   "cell_type": "markdown",
   "metadata": {},
   "source": [
    "np.empty()的含义是创建一个指定大小的数组，并不对内存的信息进行刷新，所以您会看到这个值其实是乱码的\n",
    "\n",
    "其实这些函数都可以接受一个array-like的输入，比如下面的(2, 5)，而后numpy会创造一个相应形状的数组，比如下文的2x5"
   ]
  },
  {
   "cell_type": "code",
   "execution_count": null,
   "metadata": {},
   "outputs": [],
   "source": [
    "np.ones((2, 5))"
   ]
  },
  {
   "cell_type": "markdown",
   "metadata": {},
   "source": [
    "Numpy数组还拥有一个丰富的数据类型系统，包括：\n",
    "* np.float32\n",
    "* np.float64\n",
    "* np.int16\n",
    "* np.int32\n",
    "\n",
    "具体的类型系统请参考https://numpy.org/doc/stable/user/basics.types.html ，一般不给出具体的类型，用Numpy默认值\n",
    "\n",
    "要指定类型，请使用np.array构造器的dtype参数"
   ]
  },
  {
   "cell_type": "code",
   "execution_count": null,
   "metadata": {},
   "outputs": [],
   "source": [
    "np.array([[1, 2, 3], [4, 5, 6]], dtype=np.float32)"
   ]
  },
  {
   "cell_type": "markdown",
   "metadata": {},
   "source": [
    "np.arange函数是非常重要的构造器，它接受三个输入，起点，终点，步长，会在起点和终点之间创造一系列等间隔(同步长)的值。比如这个例子："
   ]
  },
  {
   "cell_type": "code",
   "execution_count": null,
   "metadata": {},
   "outputs": [],
   "source": [
    "np.arange(10, 30, 3)"
   ]
  },
  {
   "cell_type": "markdown",
   "metadata": {},
   "source": [
    "请注意如果终点刚好满足条件，它依旧不会被放入："
   ]
  },
  {
   "cell_type": "code",
   "execution_count": null,
   "metadata": {},
   "outputs": [],
   "source": [
    "np.arange(1, 2, 0.1)"
   ]
  },
  {
   "cell_type": "markdown",
   "metadata": {},
   "source": [
    "Numpy的数组有一系列非常重要的API：\n",
    "* ndim: 查看维度\n",
    "* shape: 查看各维度上的长度\n",
    "* size: 元素数量\n",
    "* dtype: 元素类型"
   ]
  },
  {
   "cell_type": "code",
   "execution_count": null,
   "metadata": {},
   "outputs": [],
   "source": [
    "sample = np.array([[1, 2, 3, 4, 5], [6, 7, 8, 9, 10], [11, 12, 13, 14, 15], [16, 17, 18, 19, 20]])"
   ]
  },
  {
   "cell_type": "code",
   "execution_count": null,
   "metadata": {},
   "outputs": [],
   "source": [
    "sample.ndim"
   ]
  },
  {
   "cell_type": "code",
   "execution_count": null,
   "metadata": {},
   "outputs": [],
   "source": [
    "sample.shape"
   ]
  },
  {
   "cell_type": "code",
   "execution_count": null,
   "metadata": {},
   "outputs": [],
   "source": [
    "sample.size"
   ]
  },
  {
   "cell_type": "code",
   "execution_count": null,
   "metadata": {},
   "outputs": [],
   "source": [
    "sample.dtype"
   ]
  },
  {
   "cell_type": "markdown",
   "metadata": {},
   "source": [
    "我们总是会发现，ndim是shape的长度，size是shape中各元素的积"
   ]
  },
  {
   "cell_type": "markdown",
   "metadata": {},
   "source": [
    "## Operations\n",
    "Numpy为我们提供了大量高效的基础运算实现，包括：\n",
    "* 基础运算符\n",
    "* 矩阵运算符\n",
    "* 特殊函数\n",
    "* 自定义运算"
   ]
  },
  {
   "cell_type": "markdown",
   "metadata": {},
   "source": [
    "Numpy支持绝大多数基础的向量和矩阵运算符号，例如："
   ]
  },
  {
   "cell_type": "code",
   "execution_count": null,
   "metadata": {},
   "outputs": [],
   "source": [
    "a = np.array([[1, 2], [3, 4]])\n",
    "b = np.array([[5, 6], [7, 8]])"
   ]
  },
  {
   "cell_type": "code",
   "execution_count": null,
   "metadata": {},
   "outputs": [],
   "source": [
    "b - a"
   ]
  },
  {
   "cell_type": "code",
   "execution_count": null,
   "metadata": {},
   "outputs": [],
   "source": [
    "b^2"
   ]
  },
  {
   "cell_type": "code",
   "execution_count": null,
   "metadata": {},
   "outputs": [],
   "source": [
    "b/a"
   ]
  },
  {
   "cell_type": "code",
   "execution_count": null,
   "metadata": {},
   "outputs": [],
   "source": [
    "b+a"
   ]
  },
  {
   "cell_type": "markdown",
   "metadata": {},
   "source": [
    "但是有一个特殊的运算：矩阵乘法，Numpy提供了两种矩阵乘法：\n",
    "* 标准矩阵乘法， 使用@\n",
    "* 张量积， 使用*"
   ]
  },
  {
   "cell_type": "markdown",
   "metadata": {},
   "source": [
    "张量积是矩阵中每一个项乘以对应的项的算法，每个位置的值都由一个数字乘法产生："
   ]
  },
  {
   "cell_type": "code",
   "execution_count": null,
   "metadata": {},
   "outputs": [],
   "source": [
    "a*b"
   ]
  },
  {
   "cell_type": "markdown",
   "metadata": {},
   "source": [
    "而矩阵乘法则比较复杂，每个位置的值都由n个数字乘法的和产生："
   ]
  },
  {
   "cell_type": "code",
   "execution_count": null,
   "metadata": {},
   "outputs": [],
   "source": [
    "a@b"
   ]
  },
  {
   "cell_type": "code",
   "execution_count": null,
   "metadata": {},
   "outputs": [],
   "source": [
    "# @还可以被.dot()取代\n",
    "a.dot(b)"
   ]
  },
  {
   "cell_type": "markdown",
   "metadata": {},
   "source": [
    "Numpy高效的实现了很多重要运算，比如:\n",
    "* np.log()\n",
    "* np.exp()\n",
    "* np.log2() 2为底数的对数\n",
    "* np.sin()\n",
    "* np.cos()\n",
    "......\n",
    "使用这些算法可以节省我们的时间"
   ]
  },
  {
   "cell_type": "code",
   "execution_count": null,
   "metadata": {},
   "outputs": [],
   "source": [
    "np.log(a)"
   ]
  },
  {
   "cell_type": "code",
   "execution_count": null,
   "metadata": {},
   "outputs": [],
   "source": [
    "np.exp(b)"
   ]
  },
  {
   "cell_type": "code",
   "execution_count": null,
   "metadata": {},
   "outputs": [],
   "source": [
    "np.sin(a)"
   ]
  },
  {
   "cell_type": "code",
   "execution_count": null,
   "metadata": {},
   "outputs": [],
   "source": [
    "np.cos(b)"
   ]
  },
  {
   "cell_type": "markdown",
   "metadata": {},
   "source": [
    "可以看到这些算法可以被直接全部应用在数组的每一个位置"
   ]
  },
  {
   "cell_type": "markdown",
   "metadata": {},
   "source": [
    "当然Numpy的设计者意识到，不是每一个算法都可以被囊括在Numpy之中，他们预留了一些让我们自定义运算的借口：\n",
    "* Iteration\n",
    "* vectorize"
   ]
  },
  {
   "cell_type": "markdown",
   "metadata": {},
   "source": [
    "一个很简单的实现算法方式即是遍历整个数组，然后在循环体中写上操作，比如说如下这个例子，我希望a中奇数变为0，偶数变为1"
   ]
  },
  {
   "cell_type": "code",
   "execution_count": null,
   "metadata": {},
   "outputs": [],
   "source": [
    "for i in a:\n",
    "    for j in range(len(i)):\n",
    "        if i[j] % 2 == 0:\n",
    "            i[j] = 1\n",
    "        else:\n",
    "            i[j] = 0\n",
    "a"
   ]
  },
  {
   "cell_type": "markdown",
   "metadata": {},
   "source": [
    "在实际中，使用for-loop就意味着顺序计算而非并行计算，这会大大拖慢整体的运行效率，所以numpy提供了一个vectorize接口允许用并行的方式运行自定义算法，也即向量化函数"
   ]
  },
  {
   "cell_type": "code",
   "execution_count": null,
   "metadata": {},
   "outputs": [],
   "source": [
    "def myfunc(a):\n",
    "    \"Return 1 if a is even, 0 if a is odd\"\n",
    "    if a % 2 == 0:\n",
    "        return 1\n",
    "    else:\n",
    "        return 0\n",
    "\n",
    "# Vectorize the function\n",
    "vfunc = np.vectorize(myfunc)\n",
    "\n",
    "a = np.array([[1, 2],[3, 4]])\n",
    "\n",
    "# Call vectorized function\n",
    "vfunc(a)"
   ]
  },
  {
   "cell_type": "markdown",
   "metadata": {},
   "source": [
    "在大数据量时，使用向量化函数可以极大的加快运行效率"
   ]
  },
  {
   "cell_type": "markdown",
   "metadata": {},
   "source": [
    "### 统计算法\n",
    "类似于Pandas, Numpy也提供了一些算法用于array的操作，比如说：\n",
    "* np.sum()\n",
    "* np.mean()\n",
    "* np.max()\n",
    "* np.min()\n",
    "* np.cumsum()\n",
    "* np.cumprod()\n",
    "为什么这么像Pandas？因为Pandas就是基于Numpy！"
   ]
  },
  {
   "cell_type": "code",
   "execution_count": null,
   "metadata": {},
   "outputs": [],
   "source": [
    "a.sum()"
   ]
  },
  {
   "cell_type": "code",
   "execution_count": null,
   "metadata": {},
   "outputs": [],
   "source": [
    "b.mean()"
   ]
  },
  {
   "cell_type": "code",
   "execution_count": null,
   "metadata": {},
   "outputs": [],
   "source": [
    "b.max()"
   ]
  },
  {
   "cell_type": "code",
   "execution_count": null,
   "metadata": {},
   "outputs": [],
   "source": [
    "a.cumsum()"
   ]
  },
  {
   "cell_type": "code",
   "execution_count": null,
   "metadata": {},
   "outputs": [],
   "source": [
    "b.cumprod()"
   ]
  },
  {
   "cell_type": "markdown",
   "metadata": {},
   "source": [
    "## Slice\n",
    "\n",
    "数组切片是Numpy最为重要的部分，Numpy提供了一个非常快速的API让我们可以选择数组中需要的部分，这个API非常简单，但是用法繁多，我给大家准备了几个例子："
   ]
  },
  {
   "cell_type": "code",
   "execution_count": null,
   "metadata": {},
   "outputs": [],
   "source": [
    "a = np.arange(27).reshape(3, 3, 3)\n",
    "a.shape"
   ]
  },
  {
   "cell_type": "code",
   "execution_count": null,
   "metadata": {},
   "outputs": [],
   "source": [
    "a"
   ]
  },
  {
   "cell_type": "code",
   "execution_count": null,
   "metadata": {},
   "outputs": [],
   "source": [
    "# 选取第一维的第一列\n",
    "a[0]"
   ]
  },
  {
   "cell_type": "code",
   "execution_count": null,
   "metadata": {},
   "outputs": [],
   "source": [
    "# 选取第二维第一列\n",
    "a[:, 0]"
   ]
  },
  {
   "cell_type": "code",
   "execution_count": null,
   "metadata": {},
   "outputs": [],
   "source": [
    "# 选取第三维的第一列\n",
    "a[:, :, 0]"
   ]
  },
  {
   "cell_type": "markdown",
   "metadata": {},
   "source": [
    "这个语法中有一个特殊的关键字`:`，这个符号的意义是选择这个维度的所有量\n",
    "\n",
    "尝试将这个三维数组想象为一个立方体，这三个例子就是在不同的三个方向对数组进行的切片，比较困难？看一下这个二维的例子："
   ]
  },
  {
   "cell_type": "code",
   "execution_count": null,
   "metadata": {},
   "outputs": [],
   "source": [
    "a = np.arange(9).reshape(3, 3)\n",
    "a"
   ]
  },
  {
   "cell_type": "code",
   "execution_count": null,
   "metadata": {},
   "outputs": [],
   "source": [
    "a[0, :]"
   ]
  },
  {
   "cell_type": "code",
   "execution_count": null,
   "metadata": {},
   "outputs": [],
   "source": [
    "a[:, 0]"
   ]
  },
  {
   "cell_type": "markdown",
   "metadata": {},
   "source": [
    "注意到了吗？第一刀是水平的，第二刀是垂直的，这就是不同方向数组切片的含义。\n",
    "\n",
    "以下是一些别的例子用以说明切片的特殊含义"
   ]
  },
  {
   "cell_type": "code",
   "execution_count": null,
   "metadata": {},
   "outputs": [],
   "source": [
    "# Get 4, 7 from a\n",
    "a[1:3, 1]"
   ]
  },
  {
   "cell_type": "code",
   "execution_count": null,
   "metadata": {},
   "outputs": [],
   "source": [
    "# Get 2, 5, 8 from a\n",
    "a[:, 2]"
   ]
  },
  {
   "cell_type": "markdown",
   "metadata": {},
   "source": [
    "## Shape\n",
    "Numpy特别提供了一些API方便我们对数组的维度尺寸作出修改，包括:\n",
    "* reshape\n",
    "* resize\n",
    "* ravel"
   ]
  },
  {
   "cell_type": "code",
   "execution_count": null,
   "metadata": {},
   "outputs": [],
   "source": [
    "a = np.arange(20)\n",
    "a"
   ]
  },
  {
   "cell_type": "code",
   "execution_count": null,
   "metadata": {},
   "outputs": [],
   "source": [
    "a.reshape(4, 5)"
   ]
  },
  {
   "cell_type": "markdown",
   "metadata": {},
   "source": [
    "可以看到，整个数组被转化为一个第一维是4通道，第二维5通道的数组\n",
    "\n",
    "还有一个很有趣的写法，使用`-1`关键字"
   ]
  },
  {
   "cell_type": "code",
   "execution_count": null,
   "metadata": {},
   "outputs": [],
   "source": [
    "a.reshape(4, -1)"
   ]
  },
  {
   "cell_type": "markdown",
   "metadata": {},
   "source": [
    "神奇的是，他和reshape(4, 5)的结果一样，因为-1在此时的意义是让Numpy自行运算出剩余的维度。\n",
    "\n",
    "怎么运算呢？\n",
    "\n",
    "回想一样，shape中每个值乘起来要等于总元素数，所以第二维是20/4=5"
   ]
  },
  {
   "cell_type": "markdown",
   "metadata": {},
   "source": [
    "与array.reshape()一致的是array.resize()函数，不过不同的是a.reshape()并不会修改原数组，而是会返回一个新的数组，如果想要修改则请使用`a = a.reshape()`。而a.resize()函数会直接修改原数组，也即`a.reshape = (a = a.resize())`"
   ]
  },
  {
   "cell_type": "code",
   "execution_count": null,
   "metadata": {},
   "outputs": [],
   "source": [
    "# a 并未改变\n",
    "a"
   ]
  },
  {
   "cell_type": "code",
   "execution_count": null,
   "metadata": {},
   "outputs": [],
   "source": [
    "# 经过a.resize()，a 改变了\n",
    "a.resize(4, 5)\n",
    "a"
   ]
  },
  {
   "cell_type": "code",
   "execution_count": null,
   "metadata": {},
   "outputs": [],
   "source": [
    "a.ravel()"
   ]
  },
  {
   "cell_type": "markdown",
   "metadata": {},
   "source": [
    "可以看到，a.ravel()函数的作用是将高维的数组(4 x 5)重新转化为1维数组\n",
    "\n",
    "还有一个有趣的函数是transpose()和他的简写.T变量"
   ]
  },
  {
   "cell_type": "code",
   "execution_count": null,
   "metadata": {},
   "outputs": [],
   "source": [
    "a"
   ]
  },
  {
   "cell_type": "code",
   "execution_count": null,
   "metadata": {},
   "outputs": [],
   "source": [
    "a.T"
   ]
  },
  {
   "cell_type": "code",
   "execution_count": null,
   "metadata": {},
   "outputs": [],
   "source": [
    "a.T.shape"
   ]
  },
  {
   "cell_type": "markdown",
   "metadata": {},
   "source": [
    "可以看到，a.T其实完成的是矩阵的转置操作，这个操作还可以使用transpose()函数实现"
   ]
  },
  {
   "cell_type": "code",
   "execution_count": null,
   "metadata": {},
   "outputs": [],
   "source": [
    "a.transpose()"
   ]
  },
  {
   "cell_type": "markdown",
   "metadata": {},
   "source": [
    "Transpose函数还可以完成更多样化的修改，例如："
   ]
  },
  {
   "cell_type": "code",
   "execution_count": null,
   "metadata": {},
   "outputs": [],
   "source": [
    "a.resize(2, 2, 5)"
   ]
  },
  {
   "cell_type": "code",
   "execution_count": null,
   "metadata": {},
   "outputs": [],
   "source": [
    "a"
   ]
  },
  {
   "cell_type": "code",
   "execution_count": null,
   "metadata": {},
   "outputs": [],
   "source": [
    "a.shape"
   ]
  },
  {
   "cell_type": "code",
   "execution_count": null,
   "metadata": {},
   "outputs": [],
   "source": [
    "a = a.transpose(2, 1, 0)"
   ]
  },
  {
   "cell_type": "code",
   "execution_count": null,
   "metadata": {},
   "outputs": [],
   "source": [
    "a.shape"
   ]
  },
  {
   "cell_type": "markdown",
   "metadata": {},
   "source": [
    "这里我们可以发现，a.transpose()可以接受n个变量，n是矩阵的维度，并且它会对矩阵按照变量的顺序进行修改，比如这里传入的(2, 1, 0)代表着先第三个维度，然后第二个，然后第一个，如此进行操作"
   ]
  },
  {
   "cell_type": "markdown",
   "metadata": {},
   "source": [
    "## Copy\n",
    "\n",
    "数据有深浅拷贝之分，对于抽象变量，深拷贝意味着抽象数据结构的每一个子变量都被复制，而浅拷贝则意味着只复制抽象数据结构的内存地址。在Numpy中：\n",
    "\n",
    "* 深拷贝：copy()\n",
    "* 浅拷贝：view()"
   ]
  },
  {
   "cell_type": "code",
   "execution_count": null,
   "metadata": {},
   "outputs": [],
   "source": [
    "a = a.reshape(4, 5)"
   ]
  },
  {
   "cell_type": "code",
   "execution_count": null,
   "metadata": {},
   "outputs": [],
   "source": [
    "c = a.copy()"
   ]
  },
  {
   "cell_type": "code",
   "execution_count": null,
   "metadata": {},
   "outputs": [],
   "source": [
    "d = a.view()"
   ]
  },
  {
   "cell_type": "markdown",
   "metadata": {},
   "source": [
    "这时候我们尝试修改一下a中的某个元素，比如说把第一个元素从0改成100，我们再看一下a, c, d的值"
   ]
  },
  {
   "cell_type": "code",
   "execution_count": null,
   "metadata": {},
   "outputs": [],
   "source": [
    "a[0] = 100"
   ]
  },
  {
   "cell_type": "code",
   "execution_count": null,
   "metadata": {},
   "outputs": [],
   "source": [
    "a"
   ]
  },
  {
   "cell_type": "code",
   "execution_count": null,
   "metadata": {},
   "outputs": [],
   "source": [
    "c"
   ]
  },
  {
   "cell_type": "code",
   "execution_count": null,
   "metadata": {},
   "outputs": [],
   "source": [
    "d"
   ]
  },
  {
   "cell_type": "markdown",
   "metadata": {},
   "source": [
    "可以看到，此时d的值与a一致，而c的值则保持不变，这就是深浅拷贝的区别：\n",
    "* 深拷贝拷贝整个数组每一个内容，意味着创建一个新的地址复制出新的一份对象，原址被修改和新址没有关系\n",
    "* 浅拷贝拷贝数组的内存地址所以如果地址内的对象被修改，那么浅拷贝的每个对象都会改变"
   ]
  },
  {
   "cell_type": "code",
   "execution_count": null,
   "metadata": {},
   "outputs": [],
   "source": []
  }
 ],
 "metadata": {
  "kernelspec": {
   "display_name": "Python 3",
   "language": "python",
   "name": "python3"
  },
  "language_info": {
   "codemirror_mode": {
    "name": "ipython",
    "version": 3
   },
   "file_extension": ".py",
   "mimetype": "text/x-python",
   "name": "python",
   "nbconvert_exporter": "python",
   "pygments_lexer": "ipython3",
   "version": "3.8.3"
  },
  "toc": {
   "base_numbering": 1,
   "nav_menu": {},
   "number_sections": true,
   "sideBar": true,
   "skip_h1_title": false,
   "title_cell": "Table of Contents",
   "title_sidebar": "Contents",
   "toc_cell": false,
   "toc_position": {},
   "toc_section_display": true,
   "toc_window_display": false
  }
 },
 "nbformat": 4,
 "nbformat_minor": 4
}
