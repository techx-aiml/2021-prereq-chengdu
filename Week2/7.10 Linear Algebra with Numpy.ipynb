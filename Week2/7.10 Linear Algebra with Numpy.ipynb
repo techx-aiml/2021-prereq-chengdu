{
 "cells": [
  {
   "cell_type": "markdown",
   "id": "42808f5d",
   "metadata": {},
   "source": [
    "# Linear Algebra with Numpy\n",
    "黄松霖\n",
    "\n",
    "这个Notebook将会带领大家使用`Numpy`演练我们在线性代数中学习到的知识，并且了解我们应如何应用Numpy解决线性代数问题，这包括：\n",
    "* 向量和矩阵的乘积\n",
    "* 线性方程组的求解\n",
    "* 行列式与特征值"
   ]
  },
  {
   "cell_type": "markdown",
   "id": "67177a0b",
   "metadata": {},
   "source": [
    "## 乘积们\n",
    "向量或矩阵的乘积包含：\n",
    "* 点积 dot product\n",
    "* 叉积 cross product\n",
    "* 矩阵乘法 matrix multiplication\n",
    "* 内积 inner product\n",
    "* 外积 outer product\n",
    "* 张量积 tensor product"
   ]
  },
  {
   "cell_type": "code",
   "execution_count": 1,
   "id": "f14caee9",
   "metadata": {},
   "outputs": [],
   "source": [
    "import numpy as np"
   ]
  },
  {
   "cell_type": "code",
   "execution_count": 30,
   "id": "46989b3e",
   "metadata": {},
   "outputs": [],
   "source": [
    "a = np.array([1, 2, 3])\n",
    "b = np.array([4, 5, 6])"
   ]
  },
  {
   "cell_type": "markdown",
   "id": "6546babe",
   "metadata": {},
   "source": [
    "在矩阵运算中，最简单的积是对应元素积，也即，每个位置的数乘以对应位置的数，在Numpy中，这以`*`运算符给出："
   ]
  },
  {
   "cell_type": "code",
   "execution_count": 31,
   "id": "ed0f4bef",
   "metadata": {},
   "outputs": [
    {
     "data": {
      "text/plain": [
       "array([ 4, 10, 18])"
      ]
     },
     "execution_count": 31,
     "metadata": {},
     "output_type": "execute_result"
    }
   ],
   "source": [
    "a * b"
   ]
  },
  {
   "cell_type": "code",
   "execution_count": 34,
   "id": "0778d3b9",
   "metadata": {},
   "outputs": [
    {
     "data": {
      "text/plain": [
       "array([ 4., 10., 18.])"
      ]
     },
     "execution_count": 34,
     "metadata": {},
     "output_type": "execute_result"
    }
   ],
   "source": [
    "# c is output\n",
    "c = np.zeros(a.shape[0])\n",
    "for i in range(a.shape[0]):\n",
    "    c[i] = a[i] * b[i]\n",
    "    \n",
    "c"
   ]
  },
  {
   "cell_type": "markdown",
   "id": "7d3c4e4a",
   "metadata": {},
   "source": [
    "点积即是每个位置的数乘以相应的位置的数的和，可以理解为：对应元素积内容的求和"
   ]
  },
  {
   "cell_type": "code",
   "execution_count": 3,
   "id": "dc4199c9",
   "metadata": {},
   "outputs": [
    {
     "data": {
      "text/plain": [
       "32"
      ]
     },
     "execution_count": 3,
     "metadata": {},
     "output_type": "execute_result"
    }
   ],
   "source": [
    "np.dot(a, b)"
   ]
  },
  {
   "cell_type": "code",
   "execution_count": 32,
   "id": "bd3a6337",
   "metadata": {},
   "outputs": [
    {
     "data": {
      "text/plain": [
       "32"
      ]
     },
     "execution_count": 32,
     "metadata": {},
     "output_type": "execute_result"
    }
   ],
   "source": [
    "np.sum(a * b)"
   ]
  },
  {
   "cell_type": "markdown",
   "id": "252ef11a",
   "metadata": {},
   "source": [
    "叉积是一个较为特殊的操作，会返回一个长度是$|a||b|sin\\theta$，而方向垂直于a和b，并满足右手定则的向量，具体计算方式请参考后续的行列式部分："
   ]
  },
  {
   "cell_type": "code",
   "execution_count": 4,
   "id": "6c4e9fbf",
   "metadata": {},
   "outputs": [
    {
     "data": {
      "text/plain": [
       "array([-3,  6, -3])"
      ]
     },
     "execution_count": 4,
     "metadata": {},
     "output_type": "execute_result"
    }
   ],
   "source": [
    "np.cross(a, b)"
   ]
  },
  {
   "cell_type": "markdown",
   "id": "9c39571a",
   "metadata": {},
   "source": [
    "我们不妨验证一下：叉乘的结果是垂直于a和b的"
   ]
  },
  {
   "cell_type": "code",
   "execution_count": 5,
   "id": "5985940b",
   "metadata": {},
   "outputs": [
    {
     "data": {
      "text/plain": [
       "0"
      ]
     },
     "execution_count": 5,
     "metadata": {},
     "output_type": "execute_result"
    }
   ],
   "source": [
    "np.dot(a, np.cross(a, b))"
   ]
  },
  {
   "cell_type": "code",
   "execution_count": 6,
   "id": "0fbb59a0",
   "metadata": {},
   "outputs": [
    {
     "data": {
      "text/plain": [
       "0"
      ]
     },
     "execution_count": 6,
     "metadata": {},
     "output_type": "execute_result"
    }
   ],
   "source": [
    "np.dot(b, np.cross(a, b))"
   ]
  },
  {
   "cell_type": "markdown",
   "id": "ad8c5062",
   "metadata": {},
   "source": [
    "矩阵乘法在Numpy中以`matmul`函数呈现，但是需要满足很多前置条件，也即第一个矩阵的行长度必须与第二个矩阵的列长度相匹配，因为新矩阵的(2, 1)是原本左侧矩阵的第二行分别乘以右侧矩阵第二列中某一列（可以理解为做了一次dot操作）："
   ]
  },
  {
   "cell_type": "code",
   "execution_count": 7,
   "id": "712bb236",
   "metadata": {},
   "outputs": [],
   "source": [
    "a = np.array([[1, 2], [3, 4]])\n",
    "b = np.array([[5, 6], [7, 8]])"
   ]
  },
  {
   "cell_type": "code",
   "execution_count": 8,
   "id": "9bcce10d",
   "metadata": {},
   "outputs": [
    {
     "data": {
      "text/plain": [
       "array([[19, 22],\n",
       "       [43, 50]])"
      ]
     },
     "execution_count": 8,
     "metadata": {},
     "output_type": "execute_result"
    }
   ],
   "source": [
    "np.matmul(a, b)"
   ]
  },
  {
   "cell_type": "markdown",
   "id": "3f6d797b",
   "metadata": {},
   "source": [
    "这个matmul函数可以等同于下面这个代码块：（下面那个代码块不是最优实现）"
   ]
  },
  {
   "cell_type": "code",
   "execution_count": 11,
   "id": "dbee9fcb",
   "metadata": {},
   "outputs": [
    {
     "data": {
      "text/plain": [
       "array([[19., 22.],\n",
       "       [43., 50.]])"
      ]
     },
     "execution_count": 11,
     "metadata": {},
     "output_type": "execute_result"
    }
   ],
   "source": [
    "# c is the result matrix\n",
    "c = np.zeros((a.shape[0], b.shape[1]))\n",
    "for i in range(a.shape[0]):\n",
    "    for j in range(b.shape[1]):\n",
    "        c[i][j] = np.dot(a[i, :], b[:, j])\n",
    "c"
   ]
  },
  {
   "cell_type": "markdown",
   "id": "5a01be69",
   "metadata": {},
   "source": [
    "因为矩阵运算实在太常用了，所以`numpy`为我们提供了`@`运算符作为语法糖"
   ]
  },
  {
   "cell_type": "code",
   "execution_count": 9,
   "id": "58eeaf00",
   "metadata": {},
   "outputs": [
    {
     "data": {
      "text/plain": [
       "array([[19, 22],\n",
       "       [43, 50]])"
      ]
     },
     "execution_count": 9,
     "metadata": {},
     "output_type": "execute_result"
    }
   ],
   "source": [
    "a @ b"
   ]
  },
  {
   "cell_type": "markdown",
   "id": "07bbea44",
   "metadata": {},
   "source": [
    "其实向量的乘积还有内外积之分："
   ]
  },
  {
   "cell_type": "code",
   "execution_count": 12,
   "id": "8e3adf02",
   "metadata": {},
   "outputs": [],
   "source": [
    "a = np.array([1, 2, 3])\n",
    "b = np.array([4, 5, 6])"
   ]
  },
  {
   "cell_type": "code",
   "execution_count": 13,
   "id": "7662c845",
   "metadata": {},
   "outputs": [
    {
     "data": {
      "text/plain": [
       "32"
      ]
     },
     "execution_count": 13,
     "metadata": {},
     "output_type": "execute_result"
    }
   ],
   "source": [
    "np.inner(a, b)"
   ]
  },
  {
   "cell_type": "markdown",
   "id": "b618085a",
   "metadata": {},
   "source": [
    "注意到了吗，其实`inner`函数和`dot`在大多数时候的表现都是完全一致的："
   ]
  },
  {
   "cell_type": "code",
   "execution_count": 14,
   "id": "21d057b4",
   "metadata": {},
   "outputs": [
    {
     "data": {
      "text/plain": [
       "32"
      ]
     },
     "execution_count": 14,
     "metadata": {},
     "output_type": "execute_result"
    }
   ],
   "source": [
    "np.dot(a, b)"
   ]
  },
  {
   "cell_type": "code",
   "execution_count": 15,
   "id": "3d584caf",
   "metadata": {},
   "outputs": [
    {
     "data": {
      "text/plain": [
       "array([[ 4,  5,  6],\n",
       "       [ 8, 10, 12],\n",
       "       [12, 15, 18]])"
      ]
     },
     "execution_count": 15,
     "metadata": {},
     "output_type": "execute_result"
    }
   ],
   "source": [
    "a = np.array([[1], [2], [3]])\n",
    "b = np.array([[4], [5], [6]])\n",
    "np.inner(a, b)"
   ]
  },
  {
   "cell_type": "code",
   "execution_count": 16,
   "id": "18d7413c",
   "metadata": {},
   "outputs": [
    {
     "ename": "ValueError",
     "evalue": "shapes (3,1) and (3,1) not aligned: 1 (dim 1) != 3 (dim 0)",
     "output_type": "error",
     "traceback": [
      "\u001b[0;31m---------------------------------------------------------------------------\u001b[0m",
      "\u001b[0;31mValueError\u001b[0m                                Traceback (most recent call last)",
      "\u001b[0;32m<ipython-input-16-c9cc415545b4>\u001b[0m in \u001b[0;36m<module>\u001b[0;34m\u001b[0m\n\u001b[0;32m----> 1\u001b[0;31m \u001b[0mnp\u001b[0m\u001b[0;34m.\u001b[0m\u001b[0mdot\u001b[0m\u001b[0;34m(\u001b[0m\u001b[0ma\u001b[0m\u001b[0;34m,\u001b[0m \u001b[0mb\u001b[0m\u001b[0;34m)\u001b[0m\u001b[0;34m\u001b[0m\u001b[0;34m\u001b[0m\u001b[0m\n\u001b[0m",
      "\u001b[0;32m<__array_function__ internals>\u001b[0m in \u001b[0;36mdot\u001b[0;34m(*args, **kwargs)\u001b[0m\n",
      "\u001b[0;31mValueError\u001b[0m: shapes (3,1) and (3,1) not aligned: 1 (dim 1) != 3 (dim 0)"
     ]
    }
   ],
   "source": [
    "np.dot(a, b)"
   ]
  },
  {
   "cell_type": "markdown",
   "id": "9e1f21fd",
   "metadata": {},
   "source": [
    "但是这样又不一致了，`np.dot()`还报错了，这是因为`np.inner`函数的本质是返回$AB^T$，也就是A和B的转置的矩阵乘法\n",
    "\n",
    "而inner函数则对矩阵的第一维度有要求，不能为除1以外的数"
   ]
  },
  {
   "cell_type": "code",
   "execution_count": 17,
   "id": "ee575e0e",
   "metadata": {},
   "outputs": [
    {
     "data": {
      "text/plain": [
       "array([[ 4,  5,  6],\n",
       "       [ 8, 10, 12],\n",
       "       [12, 15, 18]])"
      ]
     },
     "execution_count": 17,
     "metadata": {},
     "output_type": "execute_result"
    }
   ],
   "source": [
    "np.matmul(a, b.T)"
   ]
  },
  {
   "cell_type": "code",
   "execution_count": 21,
   "id": "34e774a5",
   "metadata": {},
   "outputs": [],
   "source": [
    "a = np.array([1, 2, 3])\n",
    "b = np.array([4, 5, 6])"
   ]
  },
  {
   "cell_type": "markdown",
   "id": "82697a70",
   "metadata": {},
   "source": [
    "十分相似的，`outer`外积的本质是返回$A^TB$，也即A的转置于B的矩阵乘法"
   ]
  },
  {
   "cell_type": "code",
   "execution_count": 22,
   "id": "860916c9",
   "metadata": {},
   "outputs": [
    {
     "data": {
      "text/plain": [
       "array([[ 4,  5,  6],\n",
       "       [ 8, 10, 12],\n",
       "       [12, 15, 18]])"
      ]
     },
     "execution_count": 22,
     "metadata": {},
     "output_type": "execute_result"
    }
   ],
   "source": [
    "np.outer(a, b)"
   ]
  },
  {
   "cell_type": "code",
   "execution_count": 26,
   "id": "d1de218a",
   "metadata": {},
   "outputs": [
    {
     "data": {
      "text/plain": [
       "array([[ 4,  5,  6],\n",
       "       [ 8, 10, 12],\n",
       "       [12, 15, 18]])"
      ]
     },
     "execution_count": 26,
     "metadata": {},
     "output_type": "execute_result"
    }
   ],
   "source": [
    "a = np.array([[1, 2, 3]])\n",
    "b = np.array([[4, 5, 6]])\n",
    "np.matmul(a.T, b)"
   ]
  },
  {
   "cell_type": "markdown",
   "id": "58fba284",
   "metadata": {},
   "source": [
    "之所以我们称为内积与外积是因为一般我们会将向量写为(1, 2, 3)，除非你是竖着写字hh，那这个情况下，`np.inner(a, b)`会返回一个数，好像把向量向内压缩了，`np.outer(a, b)`会返回一个矩阵，好像向外扩展了"
   ]
  },
  {
   "cell_type": "markdown",
   "id": "a8a35c78",
   "metadata": {},
   "source": [
    "## 求解线性方程组\n",
    "Numpy在`linalg`中为我们提供了求解线性方程组的工具"
   ]
  },
  {
   "cell_type": "code",
   "execution_count": 35,
   "id": "1d12059b",
   "metadata": {},
   "outputs": [],
   "source": [
    "from numpy import linalg"
   ]
  },
  {
   "cell_type": "markdown",
   "id": "8f3558e8",
   "metadata": {},
   "source": [
    "要使用Numpy求解线性方程组，你需要先将方程组转化为系数矩阵和因变量矩阵，比如对于：$x+2y-4=0$ and $2x+y-8=0$这个方程组，你需要：\n",
    "1. 先将常数项归为右侧，它是我们需要的因变量矩阵，比如这里是((4), (8))\n",
    "2. 将系数提取出来，系数也即x, y前的数，请务必注意：x, y的顺序要保持一定！其次注意对于系数为0的情况，我们在数学中常常不写这一项，但是在系数矩阵中，0必须得到体现，比如此时系数矩阵应为((1, 2), (2, 1))---你的解顺序为x, y或者((2, 1), (1, 2))---你的解顺序为y, x\n",
    "在做完这些之后，我们使用linalg.solve函数完成求解"
   ]
  },
  {
   "cell_type": "code",
   "execution_count": 36,
   "id": "6722d101",
   "metadata": {},
   "outputs": [
    {
     "data": {
      "text/plain": [
       "array([[4.],\n",
       "       [0.]])"
      ]
     },
     "execution_count": 36,
     "metadata": {},
     "output_type": "execute_result"
    }
   ],
   "source": [
    "a = np.array([[1, 2], [2, 1]])\n",
    "b = np.array([[4], [8]])\n",
    "linalg.solve(a, b)"
   ]
  },
  {
   "cell_type": "markdown",
   "id": "fada05c5",
   "metadata": {},
   "source": [
    "实际上，为什么需要做上述两步是为了将方程转化为线性表示，也即$Ax=b$，A是系数矩阵，b是因变量矩阵，而x是我们需要的解。\n",
    "\n",
    "然后，让我们来思考一下，如果我们可以求得A的逆，也即某个矩阵使得$A^IA=1$，也即乘上这个矩阵后，A的效果可以被消除，那么$Ax=b$的左侧将只剩下x，方程得到了解，但是注意方程的右侧也需要乘上这个相应的$A^I$，这就是上述`solve`函数求解的本质。\n",
    "\n",
    "要得到这个逆，我们需要会高斯消元法的拓展，不必担心，`Numpy`为我们提供了相应的函数"
   ]
  },
  {
   "cell_type": "code",
   "execution_count": 37,
   "id": "895c8b76",
   "metadata": {},
   "outputs": [
    {
     "data": {
      "text/plain": [
       "array([[-0.33333333,  0.66666667],\n",
       "       [ 0.66666667, -0.33333333]])"
      ]
     },
     "execution_count": 37,
     "metadata": {},
     "output_type": "execute_result"
    }
   ],
   "source": [
    "linalg.inv(a)"
   ]
  },
  {
   "cell_type": "markdown",
   "id": "d7c6ebca",
   "metadata": {},
   "source": [
    "我们可以测试一下解是否是$A^IB$:"
   ]
  },
  {
   "cell_type": "code",
   "execution_count": 38,
   "id": "a6bc2897",
   "metadata": {},
   "outputs": [
    {
     "data": {
      "text/plain": [
       "array([[4.],\n",
       "       [0.]])"
      ]
     },
     "execution_count": 38,
     "metadata": {},
     "output_type": "execute_result"
    }
   ],
   "source": [
    "np.matmul(linalg.inv(a), b)"
   ]
  },
  {
   "cell_type": "markdown",
   "id": "f13be28d",
   "metadata": {},
   "source": [
    "## 行列式与特征值\n",
    "行列式（determinant，只对方阵定义）是一个对于矩阵性质具有特殊意义的值，它有很多应用，不限于：\n",
    "* 行列式为0的矩阵没有逆，行列式可以指示矩阵求逆运算\n",
    "* 行列式的绝对值是矩阵中每个行，在对应维度空间中展开，所产生的面积，体积的值"
   ]
  },
  {
   "cell_type": "code",
   "execution_count": 40,
   "id": "47c61c4d",
   "metadata": {},
   "outputs": [],
   "source": [
    "a = np.array([[1, 2], [3, 4]])"
   ]
  },
  {
   "cell_type": "code",
   "execution_count": 41,
   "id": "0b9c8327",
   "metadata": {},
   "outputs": [
    {
     "data": {
      "text/plain": [
       "-2.0000000000000004"
      ]
     },
     "execution_count": 41,
     "metadata": {},
     "output_type": "execute_result"
    }
   ],
   "source": [
    "linalg.det(a)"
   ]
  },
  {
   "cell_type": "markdown",
   "id": "fad00845",
   "metadata": {},
   "source": [
    "这个值其实是1x4-2x3=-2，也就是两条“对角线”乘积之差（可以理解为画一个叉），从左上到右下的对角线为正，另一个为负。请注意这里的对角线是带引号的，矩阵中我们严格来说只认为左上到右下的那条才是对角线。\n",
    "\n",
    "在3x3矩阵中，这更为复杂，我们需要先降到2x2，具体如何做？选一条水平线，比如第一条，其上每一个值乘以对应的2x2矩阵对角线，然后以一个特殊方式相加，即可得到答案，比如说："
   ]
  },
  {
   "cell_type": "code",
   "execution_count": 42,
   "id": "14dc7f22",
   "metadata": {},
   "outputs": [
    {
     "data": {
      "text/plain": [
       "array([[0, 1, 2],\n",
       "       [3, 4, 5],\n",
       "       [6, 7, 8]])"
      ]
     },
     "execution_count": 42,
     "metadata": {},
     "output_type": "execute_result"
    }
   ],
   "source": [
    "a = np.arange(9).reshape(3, -1)\n",
    "a"
   ]
  },
  {
   "cell_type": "markdown",
   "id": "33f4609f",
   "metadata": {},
   "source": [
    "比如我们选择水平线0，1，2， 那么0对应的是2x2小矩阵((4, 5), (7, 8))，1对应的是((3, 5), (6, 8))，2对应的是((3, 4), (6, 7))，而且注意他们的符号是根据相应位置的序号和（如果是偶数为-，奇数为+）...将他们这样加起来之后，我们就可以得到答案了，"
   ]
  },
  {
   "cell_type": "code",
   "execution_count": 43,
   "id": "3332f56c",
   "metadata": {},
   "outputs": [
    {
     "data": {
      "text/plain": [
       "0.0"
      ]
     },
     "execution_count": 43,
     "metadata": {},
     "output_type": "execute_result"
    }
   ],
   "source": [
    "linalg.det(a)"
   ]
  },
  {
   "cell_type": "code",
   "execution_count": 44,
   "id": "900f1992",
   "metadata": {},
   "outputs": [
    {
     "data": {
      "text/plain": [
       "0"
      ]
     },
     "execution_count": 44,
     "metadata": {},
     "output_type": "execute_result"
    }
   ],
   "source": [
    "0*(4*8-7*5)-1*(3*8-5*6)+2*(3*7-4*6)"
   ]
  },
  {
   "cell_type": "markdown",
   "id": "946d0fa8",
   "metadata": {},
   "source": [
    "因为这个矩阵的行列式为0，所以它没有逆，不妨试试："
   ]
  },
  {
   "cell_type": "code",
   "execution_count": 45,
   "id": "8ce7528b",
   "metadata": {},
   "outputs": [
    {
     "ename": "LinAlgError",
     "evalue": "Singular matrix",
     "output_type": "error",
     "traceback": [
      "\u001b[0;31m---------------------------------------------------------------------------\u001b[0m",
      "\u001b[0;31mLinAlgError\u001b[0m                               Traceback (most recent call last)",
      "\u001b[0;32m<ipython-input-45-8c6d9a341a08>\u001b[0m in \u001b[0;36m<module>\u001b[0;34m\u001b[0m\n\u001b[0;32m----> 1\u001b[0;31m \u001b[0mlinalg\u001b[0m\u001b[0;34m.\u001b[0m\u001b[0minv\u001b[0m\u001b[0;34m(\u001b[0m\u001b[0ma\u001b[0m\u001b[0;34m)\u001b[0m\u001b[0;34m\u001b[0m\u001b[0;34m\u001b[0m\u001b[0m\n\u001b[0m",
      "\u001b[0;32m<__array_function__ internals>\u001b[0m in \u001b[0;36minv\u001b[0;34m(*args, **kwargs)\u001b[0m\n",
      "\u001b[0;32m/opt/tljh/user/lib/python3.7/site-packages/numpy/linalg/linalg.py\u001b[0m in \u001b[0;36minv\u001b[0;34m(a)\u001b[0m\n\u001b[1;32m    543\u001b[0m     \u001b[0msignature\u001b[0m \u001b[0;34m=\u001b[0m \u001b[0;34m'D->D'\u001b[0m \u001b[0;32mif\u001b[0m \u001b[0misComplexType\u001b[0m\u001b[0;34m(\u001b[0m\u001b[0mt\u001b[0m\u001b[0;34m)\u001b[0m \u001b[0;32melse\u001b[0m \u001b[0;34m'd->d'\u001b[0m\u001b[0;34m\u001b[0m\u001b[0;34m\u001b[0m\u001b[0m\n\u001b[1;32m    544\u001b[0m     \u001b[0mextobj\u001b[0m \u001b[0;34m=\u001b[0m \u001b[0mget_linalg_error_extobj\u001b[0m\u001b[0;34m(\u001b[0m\u001b[0m_raise_linalgerror_singular\u001b[0m\u001b[0;34m)\u001b[0m\u001b[0;34m\u001b[0m\u001b[0;34m\u001b[0m\u001b[0m\n\u001b[0;32m--> 545\u001b[0;31m     \u001b[0mainv\u001b[0m \u001b[0;34m=\u001b[0m \u001b[0m_umath_linalg\u001b[0m\u001b[0;34m.\u001b[0m\u001b[0minv\u001b[0m\u001b[0;34m(\u001b[0m\u001b[0ma\u001b[0m\u001b[0;34m,\u001b[0m \u001b[0msignature\u001b[0m\u001b[0;34m=\u001b[0m\u001b[0msignature\u001b[0m\u001b[0;34m,\u001b[0m \u001b[0mextobj\u001b[0m\u001b[0;34m=\u001b[0m\u001b[0mextobj\u001b[0m\u001b[0;34m)\u001b[0m\u001b[0;34m\u001b[0m\u001b[0;34m\u001b[0m\u001b[0m\n\u001b[0m\u001b[1;32m    546\u001b[0m     \u001b[0;32mreturn\u001b[0m \u001b[0mwrap\u001b[0m\u001b[0;34m(\u001b[0m\u001b[0mainv\u001b[0m\u001b[0;34m.\u001b[0m\u001b[0mastype\u001b[0m\u001b[0;34m(\u001b[0m\u001b[0mresult_t\u001b[0m\u001b[0;34m,\u001b[0m \u001b[0mcopy\u001b[0m\u001b[0;34m=\u001b[0m\u001b[0;32mFalse\u001b[0m\u001b[0;34m)\u001b[0m\u001b[0;34m)\u001b[0m\u001b[0;34m\u001b[0m\u001b[0;34m\u001b[0m\u001b[0m\n\u001b[1;32m    547\u001b[0m \u001b[0;34m\u001b[0m\u001b[0m\n",
      "\u001b[0;32m/opt/tljh/user/lib/python3.7/site-packages/numpy/linalg/linalg.py\u001b[0m in \u001b[0;36m_raise_linalgerror_singular\u001b[0;34m(err, flag)\u001b[0m\n\u001b[1;32m     86\u001b[0m \u001b[0;34m\u001b[0m\u001b[0m\n\u001b[1;32m     87\u001b[0m \u001b[0;32mdef\u001b[0m \u001b[0m_raise_linalgerror_singular\u001b[0m\u001b[0;34m(\u001b[0m\u001b[0merr\u001b[0m\u001b[0;34m,\u001b[0m \u001b[0mflag\u001b[0m\u001b[0;34m)\u001b[0m\u001b[0;34m:\u001b[0m\u001b[0;34m\u001b[0m\u001b[0;34m\u001b[0m\u001b[0m\n\u001b[0;32m---> 88\u001b[0;31m     \u001b[0;32mraise\u001b[0m \u001b[0mLinAlgError\u001b[0m\u001b[0;34m(\u001b[0m\u001b[0;34m\"Singular matrix\"\u001b[0m\u001b[0;34m)\u001b[0m\u001b[0;34m\u001b[0m\u001b[0;34m\u001b[0m\u001b[0m\n\u001b[0m\u001b[1;32m     89\u001b[0m \u001b[0;34m\u001b[0m\u001b[0m\n\u001b[1;32m     90\u001b[0m \u001b[0;32mdef\u001b[0m \u001b[0m_raise_linalgerror_nonposdef\u001b[0m\u001b[0;34m(\u001b[0m\u001b[0merr\u001b[0m\u001b[0;34m,\u001b[0m \u001b[0mflag\u001b[0m\u001b[0;34m)\u001b[0m\u001b[0;34m:\u001b[0m\u001b[0;34m\u001b[0m\u001b[0;34m\u001b[0m\u001b[0m\n",
      "\u001b[0;31mLinAlgError\u001b[0m: Singular matrix"
     ]
    }
   ],
   "source": [
    "linalg.inv(a)"
   ]
  },
  {
   "cell_type": "markdown",
   "id": "257e12d6",
   "metadata": {},
   "source": [
    "Singular Matrix也就是说这个矩阵没有逆，因为某些行混合可以得到另一个行，比如a的第一行乘以-1加上a的第二行乘以2即可得到第三行，这样的方程，其实只有两个等式却有三个未知数，没法解，所以没有逆"
   ]
  },
  {
   "cell_type": "code",
   "execution_count": 46,
   "id": "fe7b2750",
   "metadata": {},
   "outputs": [
    {
     "data": {
      "text/plain": [
       "array([[0, 1, 2],\n",
       "       [3, 4, 5],\n",
       "       [6, 7, 8]])"
      ]
     },
     "execution_count": 46,
     "metadata": {},
     "output_type": "execute_result"
    }
   ],
   "source": [
    "a"
   ]
  },
  {
   "cell_type": "code",
   "execution_count": 47,
   "id": "f80fe317",
   "metadata": {},
   "outputs": [
    {
     "data": {
      "text/plain": [
       "array([6, 7, 8])"
      ]
     },
     "execution_count": 47,
     "metadata": {},
     "output_type": "execute_result"
    }
   ],
   "source": [
    "a[0, :]*-1 + a[1, :]*2"
   ]
  },
  {
   "cell_type": "code",
   "execution_count": 79,
   "id": "03f4ce98",
   "metadata": {},
   "outputs": [
    {
     "data": {
      "image/png": "[encoded data removed]",
      "text/plain": [
       "<Figure size 360x360 with 1 Axes>"
      ]
     },
     "metadata": {},
     "output_type": "display_data"
    }
   ],
   "source": [
    "import matplotlib.pyplot as plt\n",
    "import numpy as np\n",
    "fig=plt.figure(figsize=(5, 5))\n",
    "plt.style.use('ggplot')\n",
    "plt.quiver(0, 0, 1, 2, angles='xy', scale_units='xy', scale=1, color='g')\n",
    "plt.quiver(0, 0, 3, 0, angles='xy', scale_units='xy', scale=1, color='y')\n",
    "plt.xlim([-5, 5])\n",
    "plt.ylim([-5, 5])\n",
    "plt.show()"
   ]
  },
  {
   "cell_type": "markdown",
   "id": "235eeeef",
   "metadata": {},
   "source": [
    "那么这个拓展出的平行四边形就是："
   ]
  },
  {
   "cell_type": "code",
   "execution_count": 81,
   "id": "f008e893",
   "metadata": {},
   "outputs": [
    {
     "data": {
      "image/png": "[encoded data removed]",
      "text/plain": [
       "<Figure size 360x360 with 1 Axes>"
      ]
     },
     "metadata": {},
     "output_type": "display_data"
    }
   ],
   "source": [
    "fig=plt.figure(figsize=(5, 5))\n",
    "plt.plot([0, 1, 4, 3, 0], [0, 2, 2, 0, 0], color='black')\n",
    "plt.xlim([-5, 5])\n",
    "plt.ylim([-5, 5])\n",
    "plt.show()"
   ]
  },
  {
   "cell_type": "markdown",
   "id": "7fc6440c",
   "metadata": {},
   "source": [
    "很清楚的我们知道这个四边形的面积是：3 * 2=6，而对应的行列式绝对值为"
   ]
  },
  {
   "cell_type": "code",
   "execution_count": 83,
   "id": "8db01f73",
   "metadata": {},
   "outputs": [
    {
     "data": {
      "text/plain": [
       "6.0"
      ]
     },
     "execution_count": 83,
     "metadata": {},
     "output_type": "execute_result"
    }
   ],
   "source": [
    "abs(linalg.det(np.array([[1, 2], [3, 0]])))"
   ]
  },
  {
   "cell_type": "markdown",
   "id": "29c544ed",
   "metadata": {},
   "source": [
    "### 特征值\n",
    "在代数空间的角度来看，矩阵的乘法其实是一种线性变换，这可以表示为一种旋转，比如说："
   ]
  },
  {
   "cell_type": "code",
   "execution_count": 63,
   "id": "524afdba",
   "metadata": {},
   "outputs": [
    {
     "name": "stdout",
     "output_type": "stream",
     "text": [
      "[[-4]\n",
      " [ 3]]\n"
     ]
    },
    {
     "data": {
      "image/png": "[encoded data removed]",
      "text/plain": [
       "<Figure size 360x360 with 1 Axes>"
      ]
     },
     "metadata": {},
     "output_type": "display_data"
    }
   ],
   "source": [
    "fig=plt.figure(figsize=(5, 5))\n",
    "#绘制从[0,0]到[3, 4]的向量\n",
    "B = np.array([[3], [4]])\n",
    "plt.quiver(0, 0, B[0, 0], B[1, 0], angles='xy', scale_units='xy', scale=1, color='b')\n",
    "A = np.array([[0, -1], [1, 0]])\n",
    "#绘制从[0,0]到矩阵乘法结果的向量\n",
    "print(np.matmul(A, B))\n",
    "plt.quiver(0, 0, np.matmul(A, B)[0, 0], np.matmul(A, B)[1, 0], angles='xy', scale_units='xy', scale=1, color='g')\n",
    "plt.xlim([-5, 5])\n",
    "plt.ylim([-5, 5])\n",
    "plt.show()"
   ]
  },
  {
   "cell_type": "markdown",
   "id": "8cffa684",
   "metadata": {},
   "source": [
    "这个矩阵乘法的意义是将矩阵逆时针旋转了90度，站在向量空间的角度，那么有没有一些特殊的向量能够使得在矩阵乘法之后保持不变呢？我们可以试试用`linalg.eig`方法来寻找："
   ]
  },
  {
   "cell_type": "code",
   "execution_count": 64,
   "id": "904290d6",
   "metadata": {},
   "outputs": [
    {
     "data": {
      "text/plain": [
       "(array([-0.37228132,  5.37228132]),\n",
       " array([[-0.82456484, -0.41597356],\n",
       "        [ 0.56576746, -0.90937671]]))"
      ]
     },
     "execution_count": 64,
     "metadata": {},
     "output_type": "execute_result"
    }
   ],
   "source": [
    "a = np.array([[1, 2], [3, 4]])\n",
    "linalg.eig(a)"
   ]
  },
  {
   "cell_type": "markdown",
   "id": "e925b741",
   "metadata": {},
   "source": [
    "可以看到我们找到了两个特征值-0.37228132和5.37228132以及对应的特征向量"
   ]
  },
  {
   "cell_type": "code",
   "execution_count": 65,
   "id": "c4f369a0",
   "metadata": {},
   "outputs": [
    {
     "name": "stdout",
     "output_type": "stream",
     "text": [
      "[[ 0.30697008]\n",
      " [-0.21062468]]\n"
     ]
    },
    {
     "data": {
      "image/png": "[encoded data removed]",
      "text/plain": [
       "<Figure size 360x360 with 1 Axes>"
      ]
     },
     "metadata": {},
     "output_type": "display_data"
    }
   ],
   "source": [
    "fig=plt.figure(figsize=(5, 5))\n",
    "#绘制从[0,0]到[3, 4]的向量\n",
    "B = np.array([[-0.82456484], [0.56576746]])\n",
    "plt.quiver(0, 0, B[0, 0], B[1, 0], angles='xy', scale_units='xy', scale=1, color='b')\n",
    "A = a\n",
    "#绘制从[0,0]到矩阵乘法结果的向量\n",
    "print(np.matmul(A, B))\n",
    "plt.quiver(0, 0, np.matmul(A, B)[0, 0], np.matmul(A, B)[1, 0], angles='xy', scale_units='xy', scale=1, color='g')\n",
    "plt.xlim([-5, 5])\n",
    "plt.ylim([-5, 5])\n",
    "plt.show()"
   ]
  },
  {
   "cell_type": "markdown",
   "id": "e031a282",
   "metadata": {},
   "source": [
    "注意到完全相反其实也是方向得到了保留，那么这个相乘后的向量和原向量有什么关系呢？其实就是乘以特征值："
   ]
  },
  {
   "cell_type": "code",
   "execution_count": 66,
   "id": "d2f9c258",
   "metadata": {},
   "outputs": [
    {
     "data": {
      "text/plain": [
       "array([[-0.82456484],\n",
       "       [ 0.56576746]])"
      ]
     },
     "execution_count": 66,
     "metadata": {},
     "output_type": "execute_result"
    }
   ],
   "source": [
    "B = np.array([[-0.82456484], [0.56576746]])\n",
    "B"
   ]
  },
  {
   "cell_type": "code",
   "execution_count": 67,
   "id": "42d7194d",
   "metadata": {},
   "outputs": [
    {
     "data": {
      "text/plain": [
       "array([[ 0.30697008],\n",
       "       [-0.21062468]])"
      ]
     },
     "execution_count": 67,
     "metadata": {},
     "output_type": "execute_result"
    }
   ],
   "source": [
    "np.matmul(A, B)"
   ]
  },
  {
   "cell_type": "code",
   "execution_count": 68,
   "id": "5ec18cae",
   "metadata": {},
   "outputs": [
    {
     "data": {
      "text/plain": [
       "array([[ 0.30697009],\n",
       "       [-0.21062466]])"
      ]
     },
     "execution_count": 68,
     "metadata": {},
     "output_type": "execute_result"
    }
   ],
   "source": [
    "-0.37228132*B"
   ]
  },
  {
   "cell_type": "markdown",
   "id": "eb32d865",
   "metadata": {},
   "source": [
    "所以特征值（以$\\lambda$表示）和特征向量(x)其实就是一组特殊的值使得$Ax=\\lambda x$\n",
    "\n",
    "这具有一个很深刻的意义："
   ]
  },
  {
   "cell_type": "code",
   "execution_count": 69,
   "id": "03e87a93",
   "metadata": {},
   "outputs": [
    {
     "data": {
      "text/plain": [
       "array([[0, 1, 2],\n",
       "       [3, 4, 5],\n",
       "       [6, 7, 8]])"
      ]
     },
     "execution_count": 69,
     "metadata": {},
     "output_type": "execute_result"
    }
   ],
   "source": [
    "a = np.arange(9).reshape(3, -1)\n",
    "a"
   ]
  },
  {
   "cell_type": "code",
   "execution_count": 70,
   "id": "d6e1db1d",
   "metadata": {},
   "outputs": [
    {
     "data": {
      "text/plain": [
       "array([[ 0.16476382,  0.79969966,  0.40824829],\n",
       "       [ 0.50577448,  0.10420579, -0.81649658],\n",
       "       [ 0.84678513, -0.59128809,  0.40824829]])"
      ]
     },
     "execution_count": 70,
     "metadata": {},
     "output_type": "execute_result"
    }
   ],
   "source": [
    "b, c = linalg.eig(a)\n",
    "c "
   ]
  },
  {
   "cell_type": "code",
   "execution_count": 72,
   "id": "2f592997",
   "metadata": {},
   "outputs": [
    {
     "data": {
      "text/plain": [
       "array([[ 1.33484692e+01,  0.00000000e+00,  0.00000000e+00],\n",
       "       [ 0.00000000e+00, -1.34846923e+00,  0.00000000e+00],\n",
       "       [ 0.00000000e+00,  0.00000000e+00, -2.48477279e-16]])"
      ]
     },
     "execution_count": 72,
     "metadata": {},
     "output_type": "execute_result"
    }
   ],
   "source": [
    "d = np.array([[b[0], 0, 0], [0, b[1], 0], [0, 0, b[2]]])\n",
    "d"
   ]
  },
  {
   "cell_type": "code",
   "execution_count": 73,
   "id": "817ef12e",
   "metadata": {},
   "outputs": [
    {
     "data": {
      "text/plain": [
       "array([[6.24720935e-16, 1.00000000e+00, 2.00000000e+00],\n",
       "       [3.00000000e+00, 4.00000000e+00, 5.00000000e+00],\n",
       "       [6.00000000e+00, 7.00000000e+00, 8.00000000e+00]])"
      ]
     },
     "execution_count": 73,
     "metadata": {},
     "output_type": "execute_result"
    }
   ],
   "source": [
    "c @ d @ linalg.inv(c)"
   ]
  },
  {
   "cell_type": "markdown",
   "id": "6f7dfd7a",
   "metadata": {},
   "source": [
    "注意到，这个值又返回了a！也就是我们可以得到一个式子:$A=PDP^{-1}$，其中P是我们特征值分解得到的特征向量矩阵，D则是一个对角线为特征值的矩阵，这样乘出来之后我们又能得到A本身，这个算法可以用于求A的n次方，想象一下，对于一个只有对角线元素的矩阵，他的n次方其实就是对角线元素的n次方，不需要管第n行乘以第m列，这就是一个算法的优化\n",
    "\n",
    "请注意要这么做，你的特征值需要归一化，不然会有放缩问题"
   ]
  },
  {
   "cell_type": "markdown",
   "id": "dda467d7",
   "metadata": {},
   "source": [
    "### 其他\n",
    "numpy还提供了一些有趣的函数，这些知识不做硬性要求"
   ]
  },
  {
   "cell_type": "markdown",
   "id": "7dfc70b4",
   "metadata": {},
   "source": [
    "#### QR分解\n",
    "QR分解能将矩阵分成一个上三角矩阵和一个正交矩阵，这有助于求解线性回归方程"
   ]
  },
  {
   "cell_type": "code",
   "execution_count": 48,
   "id": "6d9acb07",
   "metadata": {},
   "outputs": [
    {
     "data": {
      "text/plain": [
       "array([[0, 1, 2],\n",
       "       [3, 4, 5],\n",
       "       [6, 7, 8]])"
      ]
     },
     "execution_count": 48,
     "metadata": {},
     "output_type": "execute_result"
    }
   ],
   "source": [
    "a = np.arange(9).reshape(3, -1)\n",
    "a"
   ]
  },
  {
   "cell_type": "code",
   "execution_count": 49,
   "id": "a50cc55f",
   "metadata": {},
   "outputs": [
    {
     "data": {
      "text/plain": [
       "(array([[ 0.        ,  0.91287093,  0.40824829],\n",
       "        [-0.4472136 ,  0.36514837, -0.81649658],\n",
       "        [-0.89442719, -0.18257419,  0.40824829]]),\n",
       " array([[-6.70820393e+00, -8.04984472e+00, -9.39148551e+00],\n",
       "        [ 0.00000000e+00,  1.09544512e+00,  2.19089023e+00],\n",
       "        [ 0.00000000e+00,  0.00000000e+00, -8.88178420e-16]]))"
      ]
     },
     "execution_count": 49,
     "metadata": {},
     "output_type": "execute_result"
    }
   ],
   "source": [
    "linalg.qr(a)"
   ]
  },
  {
   "cell_type": "markdown",
   "id": "89c0c468",
   "metadata": {},
   "source": [
    "### SVD分解\n",
    "SVD分解可以快速提取矩阵的重要信息，这些信息将会在后续的PCA，主成分分析中被提及"
   ]
  },
  {
   "cell_type": "code",
   "execution_count": 50,
   "id": "97e816b2",
   "metadata": {},
   "outputs": [
    {
     "data": {
      "text/plain": [
       "array([[0, 1],\n",
       "       [2, 3],\n",
       "       [4, 5]])"
      ]
     },
     "execution_count": 50,
     "metadata": {},
     "output_type": "execute_result"
    }
   ],
   "source": [
    "a = np.arange(6).reshape(3, -1)\n",
    "a"
   ]
  },
  {
   "cell_type": "code",
   "execution_count": 51,
   "id": "2605e650",
   "metadata": {},
   "outputs": [
    {
     "data": {
      "text/plain": [
       "(array([[-0.10818576,  0.90643763,  0.40824829],\n",
       "        [-0.48733624,  0.30957507, -0.81649658],\n",
       "        [-0.86648672, -0.28728749,  0.40824829]]),\n",
       " array([7.38648213, 0.66323581]),\n",
       " array([[-0.6011819 , -0.79911221],\n",
       "        [-0.79911221,  0.6011819 ]]))"
      ]
     },
     "execution_count": 51,
     "metadata": {},
     "output_type": "execute_result"
    }
   ],
   "source": [
    "linalg.svd(a)"
   ]
  },
  {
   "cell_type": "markdown",
   "id": "1522daa6",
   "metadata": {},
   "source": [
    "### Trace\n",
    "在很多时候，我们希望得到对角线上的元素和，`numpy`有提供对应的`trace`方法"
   ]
  },
  {
   "cell_type": "code",
   "execution_count": 52,
   "id": "d2da03f1",
   "metadata": {},
   "outputs": [
    {
     "data": {
      "text/plain": [
       "array([[ 0,  1,  2,  3],\n",
       "       [ 4,  5,  6,  7],\n",
       "       [ 8,  9, 10, 11],\n",
       "       [12, 13, 14, 15]])"
      ]
     },
     "execution_count": 52,
     "metadata": {},
     "output_type": "execute_result"
    }
   ],
   "source": [
    "a = np.arange(16).reshape(4, -1)\n",
    "a"
   ]
  },
  {
   "cell_type": "code",
   "execution_count": 53,
   "id": "8d90a6aa",
   "metadata": {},
   "outputs": [
    {
     "data": {
      "text/plain": [
       "30"
      ]
     },
     "execution_count": 53,
     "metadata": {},
     "output_type": "execute_result"
    }
   ],
   "source": [
    "np.trace(a)"
   ]
  },
  {
   "cell_type": "markdown",
   "id": "346e2edc",
   "metadata": {},
   "source": [
    "### 乘方\n",
    "其实矩阵的乘方可以被特征值分解优化，这就是为什么`numpy`提供了对应的`linalg.matrix_power`方法"
   ]
  },
  {
   "cell_type": "code",
   "execution_count": 54,
   "id": "96920ce0",
   "metadata": {},
   "outputs": [
    {
     "data": {
      "text/plain": [
       "array([[ 0,  1,  2,  3],\n",
       "       [ 4,  5,  6,  7],\n",
       "       [ 8,  9, 10, 11],\n",
       "       [12, 13, 14, 15]])"
      ]
     },
     "execution_count": 54,
     "metadata": {},
     "output_type": "execute_result"
    }
   ],
   "source": [
    "a"
   ]
  },
  {
   "cell_type": "code",
   "execution_count": 55,
   "id": "40acb66b",
   "metadata": {},
   "outputs": [
    {
     "data": {
      "text/plain": [
       "array([[ 1680,  1940,  2200,  2460],\n",
       "       [ 4880,  5620,  6360,  7100],\n",
       "       [ 8080,  9300, 10520, 11740],\n",
       "       [11280, 12980, 14680, 16380]])"
      ]
     },
     "execution_count": 55,
     "metadata": {},
     "output_type": "execute_result"
    }
   ],
   "source": [
    "linalg.matrix_power(a, 3)"
   ]
  }
 ],
 "metadata": {
  "kernelspec": {
   "display_name": "Python 3",
   "language": "python",
   "name": "python3"
  },
  "language_info": {
   "codemirror_mode": {
    "name": "ipython",
    "version": 3
   },
   "file_extension": ".py",
   "mimetype": "text/x-python",
   "name": "python",
   "nbconvert_exporter": "python",
   "pygments_lexer": "ipython3",
   "version": "3.7.10"
  }
 },
 "nbformat": 4,
 "nbformat_minor": 5
}
